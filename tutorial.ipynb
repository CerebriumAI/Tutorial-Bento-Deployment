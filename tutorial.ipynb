{
  "cells": [
    {
      "cell_type": "markdown",
      "metadata": {
        "id": "amnSfQ4S-im9"
      },
      "source": [
        "# Model Deployment with BentoML and DigitalOcean"
      ]
    },
    {
      "cell_type": "markdown",
      "metadata": {},
      "source": [
        "In this tutorial, we will be building a transaction fraud detection API using the [BentoML](https://bentoml.com) framework, and deploying it to DigitalOcean via Kubernetes."
      ]
    },
    {
      "cell_type": "markdown",
      "metadata": {},
      "source": [
        "Prerequisites:\n",
        "- Install Docker\n",
        "- Install Python3.8+\n",
        "- Install JupyterLab"
      ]
    },
    {
      "cell_type": "markdown",
      "metadata": {
        "id": "nY8jTgnQ_P08"
      },
      "source": [
        "By the end of this tutorial you will be able to:\n",
        "- Setup a Kubernetes cluster on DigitalOcean\n",
        "- Create Bentos with BentoML and containerize them\n",
        "- Create a image repository on DigitalOcean and upload your images\n",
        "- Deploy the a Bento service to Kubernetes using the DigitalOcean image repository\n",
        "  \n",
        "You should download the data required for this tutorial from [here](https://drive.google.com/file/d/1MidRYkLdAV-i0qytvsflIcKitK4atiAd/view?usp=sharing). This is originally from a [Kaggle dataset](https://www.kaggle.com/competitions/ieee-fraud-detection/data) for Fraud Detection. Place this dataset in a `data` directory in the root of your project. You can run this notebook either in VS Code or Jupyter Notebooks."
      ]
    },
    {
      "cell_type": "markdown",
      "metadata": {},
      "source": [
        "## Build a model"
      ]
    },
    {
      "cell_type": "markdown",
      "metadata": {},
      "source": [
        "Firstly, let's build a quick model to detect fraudulent transactions. We will need a number of libraries so lets install them.\n",
        "\n",
        "If you wish, create a virtual environment with conda or venv."
      ]
    },
    {
      "cell_type": "code",
      "execution_count": 1,
      "metadata": {
        "vscode": {
          "languageId": "shellscript"
        }
      },
      "outputs": [
        {
          "name": "stdout",
          "output_type": "stream",
          "text": [
            "Requirement already satisfied: numpy in /Users/elijahrou/mambaforge/lib/python3.9/site-packages (1.21.6)\n",
            "Requirement already satisfied: pandas in /Users/elijahrou/mambaforge/lib/python3.9/site-packages (1.4.1)\n",
            "Requirement already satisfied: xgboost in /Users/elijahrou/mambaforge/lib/python3.9/site-packages (1.5.1)\n",
            "Requirement already satisfied: scikit-learn in /Users/elijahrou/mambaforge/lib/python3.9/site-packages (1.0.2)\n",
            "Requirement already satisfied: python-dateutil>=2.8.1 in /Users/elijahrou/mambaforge/lib/python3.9/site-packages (from pandas) (2.8.1)\n",
            "Requirement already satisfied: pytz>=2020.1 in /Users/elijahrou/mambaforge/lib/python3.9/site-packages (from pandas) (2022.1)\n",
            "Requirement already satisfied: scipy in /Users/elijahrou/mambaforge/lib/python3.9/site-packages (from xgboost) (1.8.0)\n",
            "Requirement already satisfied: joblib>=0.11 in /Users/elijahrou/mambaforge/lib/python3.9/site-packages (from scikit-learn) (1.1.0)\n",
            "Requirement already satisfied: threadpoolctl>=2.0.0 in /Users/elijahrou/mambaforge/lib/python3.9/site-packages (from scikit-learn) (3.1.0)\n",
            "Requirement already satisfied: six>=1.5 in /Users/elijahrou/mambaforge/lib/python3.9/site-packages (from python-dateutil>=2.8.1->pandas) (1.16.0)\n",
            "Note: you may need to restart the kernel to use updated packages.\n"
          ]
        }
      ],
      "source": [
        "pip install numpy pandas xgboost scikit-learn"
      ]
    },
    {
      "cell_type": "code",
      "execution_count": 2,
      "metadata": {
        "id": "rWI28p60-imy"
      },
      "outputs": [
        {
          "name": "stderr",
          "output_type": "stream",
          "text": [
            "/Users/elijahrou/mambaforge/lib/python3.9/site-packages/xgboost/compat.py:36: FutureWarning: pandas.Int64Index is deprecated and will be removed from pandas in a future version. Use pandas.Index with the appropriate dtype instead.\n",
            "  from pandas import MultiIndex, Int64Index\n"
          ]
        }
      ],
      "source": [
        "import numpy as np\n",
        "import pandas as pd\n",
        "from sklearn.preprocessing import OneHotEncoder\n",
        "from xgboost import XGBClassifier\n",
        "\n",
        "# Load the data, sample such that the target classes are equal size\n",
        "df = pd.read_csv(\"data/train_transaction.csv\")\n",
        "df = pd.concat([df[df.isFraud == 0].sample(n=len(df[df.isFraud == 1])), df[df.isFraud == 1]], axis=0)"
      ]
    },
    {
      "cell_type": "code",
      "execution_count": 3,
      "metadata": {
        "id": "kfnNtl0w-im3"
      },
      "outputs": [],
      "source": [
        "# Select the features and target\n",
        "X = df[[\"ProductCD\", \"P_emaildomain\", \"R_emaildomain\", \"card4\", \"M1\", \"M2\", \"M3\"]]\n",
        "y = df.isFraud"
      ]
    },
    {
      "cell_type": "code",
      "execution_count": 4,
      "metadata": {
        "id": "aOhahlIa-im4"
      },
      "outputs": [],
      "source": [
        "# Use one-hot encoding to encode the categorical features\n",
        "enc = OneHotEncoder(handle_unknown=\"ignore\")\n",
        "enc.fit(X)\n",
        "\n",
        "X = pd.DataFrame(enc.transform(X).toarray(), columns=enc.get_feature_names_out().reshape(-1))\n",
        "X[\"TransactionAmt\"] = df[[\"TransactionAmt\"]].to_numpy()"
      ]
    },
    {
      "cell_type": "code",
      "execution_count": 5,
      "metadata": {
        "id": "WqTZm01c-im6"
      },
      "outputs": [
        {
          "name": "stderr",
          "output_type": "stream",
          "text": [
            "/Users/elijahrou/mambaforge/lib/python3.9/site-packages/xgboost/sklearn.py:1224: UserWarning: The use of label encoder in XGBClassifier is deprecated and will be removed in a future release. To remove this warning, do the following: 1) Pass option use_label_encoder=False when constructing XGBClassifier object; and 2) Encode your labels (y) as integers starting with 0, i.e. 0, 1, 2, ..., [num_class - 1].\n",
            "  warnings.warn(label_encoder_deprecation_msg, UserWarning)\n",
            "/Users/elijahrou/mambaforge/lib/python3.9/site-packages/xgboost/data.py:262: FutureWarning: pandas.Int64Index is deprecated and will be removed from pandas in a future version. Use pandas.Index with the appropriate dtype instead.\n",
            "  elif isinstance(data.columns, (pd.Int64Index, pd.RangeIndex)):\n"
          ]
        },
        {
          "name": "stdout",
          "output_type": "stream",
          "text": [
            "[17:35:09] WARNING: /Users/runner/miniforge3/conda-bld/xgboost-split_1645117899018/work/src/learner.cc:1115: Starting in XGBoost 1.3.0, the default evaluation metric used with the objective 'binary:logistic' was changed from 'error' to 'logloss'. Explicitly set eval_metric if you'd like to restore the old behavior.\n"
          ]
        }
      ],
      "source": [
        "# Split the dataset and train the model\n",
        "from sklearn.model_selection import train_test_split\n",
        "X_train, X_test, y_train, y_test = train_test_split(X, y, test_size=0.2, random_state=42)\n",
        "xgb = XGBClassifier(n_estimators=100, learning_rate=0.1, max_depth=3, min_child_weight=1, gamma=0, subsample=0.8, colsample_bytree=0.8, objective='binary:logistic', nthread=4, scale_pos_weight=1, seed=27)\n",
        "model = xgb.fit(X_train, y_train)"
      ]
    },
    {
      "cell_type": "markdown",
      "metadata": {},
      "source": [
        "## Setup your Kubernetes Cluster"
      ]
    },
    {
      "cell_type": "markdown",
      "metadata": {
        "id": "oAyUYUtg-im_"
      },
      "source": [
        "So, you have built a model, and you want to deploy it so it's actually useful. How do you do that?\n",
        "\n",
        "Let's start by setting up a Kubernetes cluster on DigitalOcean. Sign up using [this link](https://try.digitalocean.com/freetrialoffer/) to recieve $100 in free credits. You will need to setup a payment method, but don't worry, it won't charge you just yet. If you haven't received your credits, email support if you don't want to be charged before proceeding with the tutorial."
      ]
    },
    {
      "cell_type": "markdown",
      "metadata": {},
      "source": [
        "Once you have created your account, you can go to the [DigitalOcean dashboard](https://cloud.digitalocean.com/dashboard) and click on the **Kubernetes** tab. You should be greeted with this screen. Click **Create a Kubernetes Cluster**.\n",
        "\n",
        "![Kubernetes Landing Page](media/kubernetes_landing_page.png)"
      ]
    },
    {
      "cell_type": "markdown",
      "metadata": {},
      "source": [
        "Follow the steps to create the cluster as you see fit. Since this is just a demonstration, when you select your capacity make sure you go down to the $12 a month tier.\n",
        "\n",
        "![Node $12 Tier](media/node_cheap_tier.png)"
      ]
    },
    {
      "cell_type": "markdown",
      "metadata": {},
      "source": [
        "You should now be greeted with a screen like this:\n",
        "![Kubernetes Setup](media/kube_setup.png)\n",
        "\n",
        "Click **Get Started** and follow the instructions to connect to your cluster. You will need to install the **kubectl** command line tool as well as the **doctl** command line tool. We have provided the command for Homebrew on MacOS, but you can also install however you wish."
      ]
    },
    {
      "cell_type": "code",
      "execution_count": 6,
      "metadata": {},
      "outputs": [
        {
          "name": "stdout",
          "output_type": "stream",
          "text": [
            "\u001b[33mWarning:\u001b[0m doctl 1.78.0 is already installed and up-to-date.\n",
            "To reinstall 1.78.0, run:\n",
            "  brew reinstall doctl\n",
            "\u001b[33mWarning:\u001b[0m kubernetes-cli 1.24.3 is already installed and up-to-date.\n",
            "To reinstall 1.24.3, run:\n",
            "  brew reinstall kubernetes-cli\n"
          ]
        }
      ],
      "source": [
        "!brew install doctl kubectl"
      ]
    },
    {
      "cell_type": "markdown",
      "metadata": {},
      "source": [
        "Once that's done, you need to create a DigitalOcean API token. You can do this by going to the [DigitalOcean dashboard](https://cloud.digitalocean.com/dashboard) and clicking on the **API** tab.\n",
        "\n",
        "![API Tab](media/API.png)\n",
        "\n",
        "Once there, click **Generate New Token**. You should be promopted to name your token. Enter **fraud-classifier** and click **Generate Token**.\n",
        "\n",
        "![Token Promopt](media/token.png)"
      ]
    },
    {
      "cell_type": "markdown",
      "metadata": {},
      "source": [
        "You should now see your token. Copy it and run the following **doctl** commands. When prompted for the token string, paste it into the command line. You should run this in your terminal outside if this notebook.\n",
        "\n",
        "```\n",
        "doctl auth init --context fraud-classifier\n",
        "```"
      ]
    },
    {
      "cell_type": "markdown",
      "metadata": {},
      "source": [
        "Validate that the authorization was successful by running the following command:"
      ]
    },
    {
      "cell_type": "code",
      "execution_count": 7,
      "metadata": {},
      "outputs": [
        {
          "name": "stdout",
          "output_type": "stream",
          "text": [
            "User Email             Team       Droplet Limit    Email Verified    User UUID                               Status\n",
            "elijah@cerebrium.ai    My Team    10               true              63644d72-4ffb-40e3-b3b8-aa8bc8fb1723    active\n"
          ]
        }
      ],
      "source": [
        "!doctl account get"
      ]
    },
    {
      "cell_type": "markdown",
      "metadata": {},
      "source": [
        "Next, copy the command on step 2 and paste it into the notebook in the next cell. It should look something like this:"
      ]
    },
    {
      "cell_type": "code",
      "execution_count": 8,
      "metadata": {
        "vscode": {
          "languageId": "shellscript"
        }
      },
      "outputs": [],
      "source": [
        "# doctl kubernetes cluster kubeconfig save 423427f5-50aa-47ec-90a6-2be9494327d1"
      ]
    },
    {
      "cell_type": "markdown",
      "metadata": {},
      "source": [
        "Verify that the connection has worked by running kubectl:"
      ]
    },
    {
      "cell_type": "code",
      "execution_count": 9,
      "metadata": {},
      "outputs": [
        {
          "name": "stdout",
          "output_type": "stream",
          "text": [
            "CURRENT   NAME                                                 CLUSTER                                              AUTHINFO                                             NAMESPACE\n",
            "          arn:aws:eks:eu-west-1:288552132534:cluster/prefect   arn:aws:eks:eu-west-1:288552132534:cluster/prefect   arn:aws:eks:eu-west-1:288552132534:cluster/prefect   \n",
            "*         do-sfo3-test-k8s                                     do-sfo3-test-k8s                                     do-sfo3-test-k8s-admin                               \n",
            "          minikube                                             minikube                                             minikube                                             default\n",
            "          yatai-comp                                           do-sfo3-test-k8s-admin                               do-sfo3-test-k8s-admin                               yatai-components\n",
            "          yatai-ops                                            do-sfo3-test-k8s-admin                               do-sfo3-test-k8s-admin                               yatai-operators\n",
            "          yatai-sys                                            do-sfo3-test-k8s-admin                               do-sfo3-test-k8s-admin                               yatai-system\n",
            "\u001b[0;32mKubernetes control plane\u001b[0m is running at \u001b[0;33mhttps://3fb3e9e7-58ac-44cb-af9c-203c3cad19fd.k8s.ondigitalocean.com\u001b[0m\n",
            "\u001b[0;32mCoreDNS\u001b[0m is running at \u001b[0;33mhttps://3fb3e9e7-58ac-44cb-af9c-203c3cad19fd.k8s.ondigitalocean.com/api/v1/namespaces/kube-system/services/kube-dns:dns/proxy\u001b[0m\n",
            "\n",
            "To further debug and diagnose cluster problems, use 'kubectl cluster-info dump'.\n"
          ]
        }
      ],
      "source": [
        "!kubectl config get-contexts\n",
        "!kubectl cluster-info"
      ]
    },
    {
      "cell_type": "markdown",
      "metadata": {},
      "source": [
        "Congratulations! You have now setup a Kubernetes cluster on DigitalOcean. Now that we have the infrastructure, we need to create a API service for our fraud detection model."
      ]
    },
    {
      "cell_type": "markdown",
      "metadata": {},
      "source": [
        "## Create a Bento Service"
      ]
    },
    {
      "cell_type": "markdown",
      "metadata": {},
      "source": [
        "While there are a number of tools that ease the stress of deploying a model, one of the more straightforward ways is to use the [BentoML](https://bentoml.com) framework. BentoML is a framework for deploying machine learning models that pre-packages the model for you into a callable REST API. We use BentoML as it is both easy to use, will infer what packages we need and can deploy to multiple different cloud services and infrastructures."
      ]
    },
    {
      "cell_type": "markdown",
      "metadata": {
        "id": "b9_u80OM-im_"
      },
      "source": [
        "Install the BentoML latest stable release with the following command:\n",
        "\n",
        "```"
      ]
    },
    {
      "cell_type": "code",
      "execution_count": 10,
      "metadata": {
        "colab": {
          "base_uri": "https://localhost:8080/"
        },
        "id": "bDtTtB9V-8XW",
        "outputId": "ae8c366c-985f-42ea-c9db-849fb6114206",
        "vscode": {
          "languageId": "shellscript"
        }
      },
      "outputs": [
        {
          "name": "stdout",
          "output_type": "stream",
          "text": [
            "Requirement already satisfied: bentoml==1.0 in /Users/elijahrou/mambaforge/lib/python3.9/site-packages (1.0.0)\n",
            "Requirement already satisfied: pynvml<12 in /Users/elijahrou/mambaforge/lib/python3.9/site-packages (from bentoml==1.0) (11.4.1)\n",
            "Requirement already satisfied: packaging>=20.0 in /Users/elijahrou/mambaforge/lib/python3.9/site-packages (from bentoml==1.0) (20.9)\n",
            "Requirement already satisfied: chardet in /Users/elijahrou/mambaforge/lib/python3.9/site-packages (from bentoml==1.0) (4.0.0)\n",
            "Requirement already satisfied: simple-di>=0.1.4 in /Users/elijahrou/mambaforge/lib/python3.9/site-packages (from bentoml==1.0) (0.1.5)\n",
            "Requirement already satisfied: starlette in /Users/elijahrou/mambaforge/lib/python3.9/site-packages (from bentoml==1.0) (0.20.4)\n",
            "Requirement already satisfied: opentelemetry-semantic-conventions==0.28b0 in /Users/elijahrou/mambaforge/lib/python3.9/site-packages (from bentoml==1.0) (0.28b0)\n",
            "Requirement already satisfied: opentelemetry-util-http==0.28b0 in /Users/elijahrou/mambaforge/lib/python3.9/site-packages (from bentoml==1.0) (0.28b0)\n",
            "Requirement already satisfied: aiohttp<=3.8.1 in /Users/elijahrou/mambaforge/lib/python3.9/site-packages (from bentoml==1.0) (3.8.1)\n",
            "Requirement already satisfied: cloudpickle in /Users/elijahrou/mambaforge/lib/python3.9/site-packages (from bentoml==1.0) (2.0.0)\n",
            "Requirement already satisfied: python-dotenv>=0.20.0 in /Users/elijahrou/mambaforge/lib/python3.9/site-packages (from bentoml==1.0) (0.20.0)\n",
            "Requirement already satisfied: opentelemetry-sdk==1.9.0 in /Users/elijahrou/mambaforge/lib/python3.9/site-packages (from bentoml==1.0) (1.9.0)\n",
            "Requirement already satisfied: aiofiles in /Users/elijahrou/mambaforge/lib/python3.9/site-packages (from bentoml==1.0) (0.8.0)\n",
            "Requirement already satisfied: prometheus-client<0.14.0,>=0.10.0 in /Users/elijahrou/mambaforge/lib/python3.9/site-packages (from bentoml==1.0) (0.13.1)\n",
            "Requirement already satisfied: pip-tools>=6.6.2 in /Users/elijahrou/mambaforge/lib/python3.9/site-packages (from bentoml==1.0) (6.8.0)\n",
            "Requirement already satisfied: attrs>=21.1.0 in /Users/elijahrou/mambaforge/lib/python3.9/site-packages (from bentoml==1.0) (21.4.0)\n",
            "Requirement already satisfied: click>=7.0 in /Users/elijahrou/mambaforge/lib/python3.9/site-packages (from bentoml==1.0) (8.1.3)\n",
            "Requirement already satisfied: Jinja2>=3.0.1 in /Users/elijahrou/mambaforge/lib/python3.9/site-packages (from bentoml==1.0) (3.1.2)\n",
            "Requirement already satisfied: python-json-logger in /Users/elijahrou/mambaforge/lib/python3.9/site-packages (from bentoml==1.0) (2.0.1)\n",
            "Requirement already satisfied: PyYAML>=5.0 in /Users/elijahrou/mambaforge/lib/python3.9/site-packages (from bentoml==1.0) (6.0)\n",
            "Requirement already satisfied: uvicorn in /Users/elijahrou/mambaforge/lib/python3.9/site-packages (from bentoml==1.0) (0.18.2)\n",
            "Requirement already satisfied: opentelemetry-instrumentation-asgi==0.28b0 in /Users/elijahrou/mambaforge/lib/python3.9/site-packages (from bentoml==1.0) (0.28b0)\n",
            "Requirement already satisfied: circus in /Users/elijahrou/mambaforge/lib/python3.9/site-packages (from bentoml==1.0) (0.17.1)\n",
            "Requirement already satisfied: rich>=11.2.0 in /Users/elijahrou/mambaforge/lib/python3.9/site-packages (from bentoml==1.0) (12.2.0)\n",
            "Requirement already satisfied: deepmerge in /Users/elijahrou/mambaforge/lib/python3.9/site-packages (from bentoml==1.0) (1.0.1)\n",
            "Requirement already satisfied: python-multipart in /Users/elijahrou/mambaforge/lib/python3.9/site-packages (from bentoml==1.0) (0.0.5)\n",
            "Requirement already satisfied: cattrs>=21.1.0 in /Users/elijahrou/mambaforge/lib/python3.9/site-packages (from bentoml==1.0) (22.1.0)\n",
            "Requirement already satisfied: typing-extensions>=4.0 in /Users/elijahrou/mambaforge/lib/python3.9/site-packages (from bentoml==1.0) (4.3.0)\n",
            "Requirement already satisfied: exceptiongroup in /Users/elijahrou/mambaforge/lib/python3.9/site-packages (from bentoml==1.0) (1.0.0rc8)\n",
            "Requirement already satisfied: opentelemetry-instrumentation-aiohttp-client==0.28b0 in /Users/elijahrou/mambaforge/lib/python3.9/site-packages (from bentoml==1.0) (0.28b0)\n",
            "Requirement already satisfied: python-dateutil in /Users/elijahrou/mambaforge/lib/python3.9/site-packages (from bentoml==1.0) (2.8.1)\n",
            "Requirement already satisfied: opentelemetry-api==1.9.0 in /Users/elijahrou/mambaforge/lib/python3.9/site-packages (from bentoml==1.0) (1.9.0)\n",
            "Requirement already satisfied: pathspec in /Users/elijahrou/mambaforge/lib/python3.9/site-packages (from bentoml==1.0) (0.9.0)\n",
            "Requirement already satisfied: requests in /Users/elijahrou/mambaforge/lib/python3.9/site-packages (from bentoml==1.0) (2.25.1)\n",
            "Requirement already satisfied: fs in /Users/elijahrou/mambaforge/lib/python3.9/site-packages (from bentoml==1.0) (2.4.16)\n",
            "Requirement already satisfied: psutil in /Users/elijahrou/mambaforge/lib/python3.9/site-packages (from bentoml==1.0) (5.9.0)\n",
            "Requirement already satisfied: filelock in /Users/elijahrou/mambaforge/lib/python3.9/site-packages (from bentoml==1.0) (3.6.0)\n",
            "Requirement already satisfied: schema in /Users/elijahrou/mambaforge/lib/python3.9/site-packages (from bentoml==1.0) (0.7.5)\n",
            "Requirement already satisfied: opentelemetry-instrumentation==0.28b0 in /Users/elijahrou/mambaforge/lib/python3.9/site-packages (from bentoml==1.0) (0.28b0)\n",
            "Requirement already satisfied: numpy in /Users/elijahrou/mambaforge/lib/python3.9/site-packages (from bentoml==1.0) (1.21.6)\n",
            "Requirement already satisfied: setuptools>=16.0 in /Users/elijahrou/mambaforge/lib/python3.9/site-packages (from opentelemetry-api==1.9.0->bentoml==1.0) (62.1.0)\n",
            "Requirement already satisfied: Deprecated>=1.2.6 in /Users/elijahrou/mambaforge/lib/python3.9/site-packages (from opentelemetry-api==1.9.0->bentoml==1.0) (1.2.13)\n",
            "Requirement already satisfied: wrapt<2.0.0,>=1.0.0 in /Users/elijahrou/mambaforge/lib/python3.9/site-packages (from opentelemetry-instrumentation==0.28b0->bentoml==1.0) (1.14.0)\n",
            "Requirement already satisfied: asgiref~=3.0 in /Users/elijahrou/mambaforge/lib/python3.9/site-packages (from opentelemetry-instrumentation-asgi==0.28b0->bentoml==1.0) (3.5.2)\n",
            "Requirement already satisfied: yarl<2.0,>=1.0 in /Users/elijahrou/mambaforge/lib/python3.9/site-packages (from aiohttp<=3.8.1->bentoml==1.0) (1.7.2)\n",
            "Requirement already satisfied: multidict<7.0,>=4.5 in /Users/elijahrou/mambaforge/lib/python3.9/site-packages (from aiohttp<=3.8.1->bentoml==1.0) (6.0.2)\n",
            "Requirement already satisfied: aiosignal>=1.1.2 in /Users/elijahrou/mambaforge/lib/python3.9/site-packages (from aiohttp<=3.8.1->bentoml==1.0) (1.2.0)\n",
            "Requirement already satisfied: frozenlist>=1.1.1 in /Users/elijahrou/mambaforge/lib/python3.9/site-packages (from aiohttp<=3.8.1->bentoml==1.0) (1.3.0)\n",
            "Requirement already satisfied: async-timeout<5.0,>=4.0.0a3 in /Users/elijahrou/mambaforge/lib/python3.9/site-packages (from aiohttp<=3.8.1->bentoml==1.0) (4.0.2)\n",
            "Requirement already satisfied: charset-normalizer<3.0,>=2.0 in /Users/elijahrou/mambaforge/lib/python3.9/site-packages (from aiohttp<=3.8.1->bentoml==1.0) (2.0.12)\n",
            "Requirement already satisfied: MarkupSafe>=2.0 in /Users/elijahrou/mambaforge/lib/python3.9/site-packages (from Jinja2>=3.0.1->bentoml==1.0) (2.0.1)\n",
            "Requirement already satisfied: pyparsing>=2.0.2 in /Users/elijahrou/mambaforge/lib/python3.9/site-packages (from packaging>=20.0->bentoml==1.0) (3.0.8)\n",
            "Requirement already satisfied: wheel in /Users/elijahrou/mambaforge/lib/python3.9/site-packages (from pip-tools>=6.6.2->bentoml==1.0) (0.37.1)\n",
            "Requirement already satisfied: pip>=21.2 in /Users/elijahrou/mambaforge/lib/python3.9/site-packages (from pip-tools>=6.6.2->bentoml==1.0) (22.0.4)\n",
            "Requirement already satisfied: build in /Users/elijahrou/mambaforge/lib/python3.9/site-packages (from pip-tools>=6.6.2->bentoml==1.0) (0.8.0)\n",
            "Requirement already satisfied: pygments<3.0.0,>=2.6.0 in /Users/elijahrou/mambaforge/lib/python3.9/site-packages (from rich>=11.2.0->bentoml==1.0) (2.12.0)\n",
            "Requirement already satisfied: commonmark<0.10.0,>=0.9.0 in /Users/elijahrou/mambaforge/lib/python3.9/site-packages (from rich>=11.2.0->bentoml==1.0) (0.9.1)\n",
            "Requirement already satisfied: pyzmq>=17.0 in /Users/elijahrou/mambaforge/lib/python3.9/site-packages (from circus->bentoml==1.0) (22.3.0)\n",
            "Requirement already satisfied: tornado>=5.0.2 in /Users/elijahrou/mambaforge/lib/python3.9/site-packages (from circus->bentoml==1.0) (6.1)\n",
            "Requirement already satisfied: appdirs~=1.4.3 in /Users/elijahrou/mambaforge/lib/python3.9/site-packages (from fs->bentoml==1.0) (1.4.4)\n",
            "Requirement already satisfied: six~=1.10 in /Users/elijahrou/mambaforge/lib/python3.9/site-packages (from fs->bentoml==1.0) (1.16.0)\n",
            "Requirement already satisfied: urllib3<1.27,>=1.21.1 in /Users/elijahrou/mambaforge/lib/python3.9/site-packages (from requests->bentoml==1.0) (1.25.11)\n",
            "Requirement already satisfied: certifi>=2017.4.17 in /Users/elijahrou/mambaforge/lib/python3.9/site-packages (from requests->bentoml==1.0) (2022.6.15)\n",
            "Requirement already satisfied: idna<3,>=2.5 in /Users/elijahrou/mambaforge/lib/python3.9/site-packages (from requests->bentoml==1.0) (2.10)\n",
            "Requirement already satisfied: contextlib2>=0.5.5 in /Users/elijahrou/mambaforge/lib/python3.9/site-packages (from schema->bentoml==1.0) (0.5.5)\n",
            "Requirement already satisfied: anyio<5,>=3.4.0 in /Users/elijahrou/mambaforge/lib/python3.9/site-packages (from starlette->bentoml==1.0) (3.5.0)\n",
            "Requirement already satisfied: h11>=0.8 in /Users/elijahrou/mambaforge/lib/python3.9/site-packages (from uvicorn->bentoml==1.0) (0.13.0)\n",
            "Requirement already satisfied: sniffio>=1.1 in /Users/elijahrou/mambaforge/lib/python3.9/site-packages (from anyio<5,>=3.4.0->starlette->bentoml==1.0) (1.2.0)\n",
            "Requirement already satisfied: pep517>=0.9.1 in /Users/elijahrou/mambaforge/lib/python3.9/site-packages (from build->pip-tools>=6.6.2->bentoml==1.0) (0.12.0)\n",
            "Requirement already satisfied: tomli>=1.0.0 in /Users/elijahrou/mambaforge/lib/python3.9/site-packages (from build->pip-tools>=6.6.2->bentoml==1.0) (2.0.1)\n",
            "Note: you may need to restart the kernel to use updated packages.\n"
          ]
        }
      ],
      "source": [
        "pip install bentoml==1.0"
      ]
    },
    {
      "cell_type": "markdown",
      "metadata": {
        "id": "Us8A2VZH-inB"
      },
      "source": [
        "Now, we want to create our Bento service using the **model** and **enc** objects we created before. Import `bentoml` and use the appropriate `save_model` function to save the models we need to the local **model** store. You may notice we used the **sklearn** `save_model` for the XGBoost model. This is as we have used the SKLearn API to create the model.\n",
        "\n",
        "We included a number of extra tags to show how you can annotate the model with extra metadata.\n",
        "\n",
        "- **labels**: user-defined labels for managing models, e.g. team=nlp, stage=dev.\n",
        "- **metadata**: user-defined metadata for storing model training context information or model evaluation metrics, e.g. dataset version, training parameters, model scores.\n",
        "- **custom_objects**: user-defined additional python objects, e.g. a tokenizer instance, preprocessor function, model configuration json, serialized with cloudpickle. Custom objects will be serialized with cloudpickle.\n",
        "- **signatures**: optional model signatures for inference"
      ]
    },
    {
      "cell_type": "code",
      "execution_count": 11,
      "metadata": {
        "colab": {
          "base_uri": "https://localhost:8080/",
          "height": 508
        },
        "id": "w811MKin-inB",
        "outputId": "9465023c-0dd6-48bf-8891-ec7340ccd0c7"
      },
      "outputs": [
        {
          "name": "stdout",
          "output_type": "stream",
          "text": [
            "Model(tag=\"fraud_classifier:47sbzaqj2oeaautt\")\n"
          ]
        }
      ],
      "source": [
        "import bentoml\n",
        "saved_model = bentoml.sklearn.save_model(\n",
        "    \"fraud_classifier\", \n",
        "    model,\n",
        "    labels = {\n",
        "        \"owner\": \"Cerebrium\",\n",
        "        \"stage\": \"prod\"\n",
        "    },\n",
        "    metadata = {\n",
        "        \"version\": \"1.0.0\"\n",
        "    },\n",
        "    custom_objects = {\n",
        "        \"ohe_encoder\": enc\n",
        "    },\n",
        "    signatures={\n",
        "      \"predict\": {\n",
        "        \"batchable\": True,\n",
        "        \"batch_dim\": 0,\n",
        "      }\n",
        "    },\n",
        ")\n",
        "print(f\"{saved_model}\")"
      ]
    },
    {
      "cell_type": "markdown",
      "metadata": {
        "id": "L3nJISPC-im_"
      },
      "source": [
        "Next, you will need to create a Bento service. This abstraction tells Bento what model to use to run inference and handle any preprocessing. In this service, we are going to use the `fraud_classifier` model we saved to the local store.\n",
        "\n",
        "Create a new file called `fraud_detection_service.py` in the project root directory, and paste the following code into it:"
      ]
    },
    {
      "cell_type": "markdown",
      "metadata": {
        "id": "2rQaAS8f-inA"
      },
      "source": [
        "```python\n",
        "import numpy as np\n",
        "import pandas as pd\n",
        "\n",
        "import bentoml\n",
        "from bentoml.io import PandasDataFrame, JSON\n",
        "\n",
        "ohe_encoder = bentoml.models.get(\"fraud_classifier:latest\").custom_objects[\"ohe_encoder\"]\n",
        "fraud_classifier_runner = bentoml.sklearn.get(\"fraud_classifier:latest\").to_runner()\n",
        "\n",
        "svc = bentoml.Service(\"fraud_classifier\", runners=[fraud_classifier_runner])\n",
        "\n",
        "@svc.api(input=PandasDataFrame(), output=JSON(), route=\"/fraud-classifier\")\n",
        "def predict(df: pd.DataFrame) -> np.ndarray:\n",
        "    X = df[[\"ProductCD\", \"P_emaildomain\", \"R_emaildomain\", \"card4\", \"M1\", \"M2\", \"M3\"]]\n",
        "    X = X.fillna(pd.NA) # ensure all missing values are pandas NA\n",
        "    X = pd.DataFrame(ohe_encoder.transform(X).toarray(), columns=ohe_encoder.get_feature_names_out().reshape(-1))\n",
        "    X[\"TransactionAmt\"] = df[[\"TransactionAmt\"]].to_numpy()\n",
        "    return fraud_classifier_runner.predict.run(X)\n",
        "```"
      ]
    },
    {
      "cell_type": "markdown",
      "metadata": {
        "id": "kKmFlOov-inA"
      },
      "source": [
        "There are a number of key details in this file to be aware of.\n",
        "\n",
        "- `ohe_encoder`: You'll notice that we load in the encoder custom object from the *fraud_classifier* model we defined previously. This is because we need to transform the data before we can use it for inference.\n",
        "- `fraud_classifier_runner`: Here, we load in the *fraud_classifier* model we defined previously and convert it into a **runner**. A runner in BentoML represents a unit of serving logic which wraps a model and can be scaled to maximize throughput and resource use.\n",
        "- `svc`: This represents the Service object. It is the main entry point for the BentoML service.\n",
        "- `svc.api`: This is a decorator that tells BentoML this is an API, what kind of input and output the API accepts, and the desired REST route.\n",
        "\n",
        "As you can see, we instantiate a **Service** class and define an API with DataFrame inputs and JSON outputs. We run all necessary pre-processing with the **encoder** custom object, then call the **model** runner to make predictions."
      ]
    },
    {
      "cell_type": "markdown",
      "metadata": {},
      "source": [
        "We can now quickly test out our service. We can run the following command in the terminal:"
      ]
    },
    {
      "cell_type": "code",
      "execution_count": 16,
      "metadata": {},
      "outputs": [
        {
          "name": "stdout",
          "output_type": "stream",
          "text": [
            "2022-07-22T17:42:41+0200 [INFO] [cli] Starting development BentoServer from \"fraud_detection_service:svc\" running on http://127.0.0.1:3000 (Press CTRL+C to quit)\n",
            "/Users/elijahrou/mambaforge/lib/python3.9/site-packages/xgboost/compat.py:36: FutureWarning: pandas.Int64Index is deprecated and will be removed from pandas in a future version. Use pandas.Index with the appropriate dtype instead.\n",
            "  from pandas import MultiIndex, Int64Index\n",
            "2022-07-22T17:42:49+0200 [INFO] [dev_api_server] 127.0.0.1:59048 (scheme=http,method=GET,path=/,type=,length=) (status=200,type=text/html; charset=utf-8,length=790) 0.043ms (trace=236109163403648715119866013412666132823,span=16653433756574071296,sampled=0)\n",
            "2022-07-22T17:42:49+0200 [INFO] [dev_api_server] 127.0.0.1:59048 (scheme=http,method=GET,path=/static_content/swagger-ui.css,type=,length=) (status=304,type=,length=) 0.014ms (trace=192119439391170657229918467038667169235,span=8370677538180303575,sampled=0)\n",
            "2022-07-22T17:42:49+0200 [INFO] [dev_api_server] 127.0.0.1:59052 (scheme=http,method=GET,path=/static_content/swagger-initializer.js,type=,length=) (status=304,type=,length=) 0.006ms (trace=199814005138883460763958946879090824183,span=16814780053169199747,sampled=0)\n",
            "2022-07-22T17:42:49+0200 [INFO] [dev_api_server] 127.0.0.1:59050 (scheme=http,method=GET,path=/static_content/swagger-ui-bundle.js,type=,length=) (status=304,type=,length=) 0.007ms (trace=211055925693080373582046504906484777171,span=17386803860737729941,sampled=0)\n",
            "2022-07-22T17:42:49+0200 [INFO] [dev_api_server] 127.0.0.1:59049 (scheme=http,method=GET,path=/static_content/index.css,type=,length=) (status=304,type=,length=) 0.007ms (trace=308997840024472118266777063753692674793,span=15540632629123636237,sampled=0)\n",
            "2022-07-22T17:42:49+0200 [INFO] [dev_api_server] 127.0.0.1:59051 (scheme=http,method=GET,path=/static_content/swagger-ui-standalone-preset.js,type=,length=) (status=304,type=,length=) 0.007ms (trace=202151308863301878434260872456519387311,span=14625505362452480848,sampled=0)\n",
            "2022-07-22T17:42:50+0200 [INFO] [dev_api_server] 127.0.0.1:59051 (scheme=http,method=GET,path=/docs.json,type=,length=) (status=200,type=application/json,length=1710) 0.002ms (trace=2372956619781865170160712193551449192,span=4339095309469967887,sampled=0)\n",
            "2022-07-22T17:42:50+0200 [INFO] [dev_api_server] 127.0.0.1:59051 (scheme=http,method=GET,path=/static_content/favicon-32x32.png,type=,length=) (status=304,type=,length=) 0.001ms (trace=282983495590285125889995309779171111499,span=14035517314784879278,sampled=0)\n",
            "/Users/elijahrou/mambaforge/lib/python3.9/site-packages/xgboost/data.py:262: FutureWarning: pandas.Int64Index is deprecated and will be removed from pandas in a future version. Use pandas.Index with the appropriate dtype instead.\n",
            "  elif isinstance(data.columns, (pd.Int64Index, pd.RangeIndex)):\n",
            "2022-07-22T17:43:07+0200 [INFO] [dev_api_server] 127.0.0.1:59064 (scheme=http,method=POST,path=/fraud-classifier,type=application/json,length=659) (status=200,type=application/json,length=3) 0.025ms (trace=20487469480192922039993866453930828641,span=16849565190219937843,sampled=0)\n",
            "^C\n"
          ]
        }
      ],
      "source": [
        "# !bentoml serve fraud_detection_service:svc"
      ]
    },
    {
      "cell_type": "markdown",
      "metadata": {},
      "source": [
        "Navigate to the specified IP of the service and run the following post request (the output should be `[1]`):"
      ]
    },
    {
      "cell_type": "markdown",
      "metadata": {},
      "source": [
        "```json\n",
        "[{\"TransactionID\":3366167,\"isFraud\":0,\"TransactionDT\":9489613,\"TransactionAmt\":495.0,\"ProductCD\":\"W\",\"card1\":11839,\"card2\":490.0,\"card3\":150.0,\"card4\":\"visa\",\"card5\":226.0,\"card6\":\"debit\",\"addr1\":123.0,\"addr2\":87.0,\"dist1\":1.0,\"dist2\":null,\"P_emaildomain\":\"live.com\",\"R_emaildomain\":null,\"C1\":1.0,\"C2\":2.0,\"C3\":0.0,\"C4\":0.0,\"C5\":0.0,\"C6\":1.0,\"C7\":0.0,\"C8\":0.0,\"C9\":1.0,\"C10\":0.0,\"C11\":1.0,\"C12\":0.0,\"C13\":1.0,\"C14\":1.0,\"D1\":11.0,\"D2\":11.0,\"D3\":11.0,\"D4\":11.0,\"D5\":11.0,\"D6\":null,\"D7\":null,\"D8\":null,\"D9\":null,\"D10\":11.0,\"D11\":29.0,\"D12\":null,\"D13\":null,\"D14\":null,\"D15\":11.0,\"M1\":\"T\",\"M2\":\"T\",\"M3\":\"T\",\"M4\":\"M0\",\"M5\":\"F\",\"M6\":null,\"M7\":\"T\",\"M8\":\"T\",\"M9\":\"T\"}]\n",
        "```"
      ]
    },
    {
      "cell_type": "markdown",
      "metadata": {
        "id": "ET1P-fQ0-inC"
      },
      "source": [
        "Wait, that's it? Well, kinda. Our service isn't deployed yet, just ready to be packaged. We're now going to containerize the Bento and deploy it to our DigitalOcean K8s cluster."
      ]
    },
    {
      "cell_type": "markdown",
      "metadata": {},
      "source": [
        "## Bento Building & Containerization"
      ]
    },
    {
      "cell_type": "markdown",
      "metadata": {},
      "source": [
        "Before we containerize and test our Bento, we should create a repository on the Digital Ocean image registry to push our service image to.\n",
        "\n",
        "Using `doctl`, create a new registry named **ml-models** and log in."
      ]
    },
    {
      "cell_type": "code",
      "execution_count": 13,
      "metadata": {},
      "outputs": [
        {
          "name": "stdout",
          "output_type": "stream",
          "text": [
            "\u001b[31mError\u001b[0m: POST https://api.digitalocean.com/v2/registry: 409 (request \"d7ee6ed9-b551-466a-807f-5d07a7aca2d9\") name already exists\n",
            "Logging Docker in to registry.digitalocean.com\n"
          ]
        }
      ],
      "source": [
        "!doctl registry create ml-models\n",
        "!doctl registry login"
      ]
    },
    {
      "cell_type": "markdown",
      "metadata": {},
      "source": [
        "Awesome! We have a registry. Now we need to define `bentofile.yaml` file in our project directory. We use this file to specify things such as python packages, CUDA installations, the base docker image, etc. You can read more about the various build options [here](https://docs.bentoml.org/en/latest/concepts/bento.html)."
      ]
    },
    {
      "cell_type": "markdown",
      "metadata": {},
      "source": [
        "```yaml\n",
        "service: \"fraud_detection_service:svc\"  # Same as the argument passed to `bentoml serve`\n",
        "labels:\n",
        "   owner: Cerebrium\n",
        "   stage: prod\n",
        "include:\n",
        "- \"*.py\"  # A pattern for matching which files to include in the bento\n",
        "python:\n",
        "   packages:  # Additional pip packages required by the service\n",
        "   - scikit-learn\n",
        "   - pandas\n",
        "   - numpy\n",
        "   - xgboost\n",
        "```"
      ]
    },
    {
      "cell_type": "markdown",
      "metadata": {},
      "source": [
        "Now, we run the following command in the terminal to build our Bento:"
      ]
    },
    {
      "cell_type": "code",
      "execution_count": 17,
      "metadata": {},
      "outputs": [
        {
          "name": "stdout",
          "output_type": "stream",
          "text": [
            "Building BentoML service \"fraud_classifier:nibfwjaj2wdqiutt\" from build context \"/Users/elijahrou/Cerebrium/deployment_tut\"\n",
            "Packing model \"fraud_classifier:47sbzaqj2oeaautt\"\n",
            "Locking PyPI package versions..\n",
            "/Users/elijahrou/mambaforge/lib/python3.9/site-packages/_distutils_hack/__init__.py:30: UserWarning: Setuptools is replacing distutils.\n",
            "  warnings.warn(\"Setuptools is replacing distutils.\")\n",
            "\n",
            "██████╗░███████╗███╗░░██╗████████╗░█████╗░███╗░░░███╗██╗░░░░░\n",
            "██╔══██╗██╔════╝████╗░██║╚══██╔══╝██╔══██╗████╗░████║██║░░░░░\n",
            "██████╦╝█████╗░░██╔██╗██║░░░██║░░░██║░░██║██╔████╔██║██║░░░░░\n",
            "██╔══██╗██╔══╝░░██║╚████║░░░██║░░░██║░░██║██║╚██╔╝██║██║░░░░░\n",
            "██████╦╝███████╗██║░╚███║░░░██║░░░╚█████╔╝██║░╚═╝░██║███████╗\n",
            "╚═════╝░╚══════╝╚═╝░░╚══╝░░░╚═╝░░░░╚════╝░╚═╝░░░░░╚═╝╚══════╝\n",
            "\n",
            "Successfully built Bento(tag=\"fraud_classifier:nibfwjaj2wdqiutt\")\n"
          ]
        }
      ],
      "source": [
        "!bentoml build"
      ]
    },
    {
      "cell_type": "markdown",
      "metadata": {},
      "source": [
        "Grats! You created a Bento! You can serve it with the following command in your terminal with the **latest** tag:"
      ]
    },
    {
      "cell_type": "code",
      "execution_count": null,
      "metadata": {},
      "outputs": [],
      "source": [
        "!bentoml serve fraud_classifier:latest --production"
      ]
    },
    {
      "cell_type": "markdown",
      "metadata": {},
      "source": [
        "Now, we need to create the service container. Using the `bentoml containerize`, we will containerize our Bento, tagging the image with registry link and the name of the service. If you're on Apple Silicon, include `--platform=linux/amd64` in the command to avoid compatibility issues.\n",
        "\n",
        "```bash"
      ]
    },
    {
      "cell_type": "code",
      "execution_count": 27,
      "metadata": {
        "id": "a7wbb8JG-inD"
      },
      "outputs": [
        {
          "name": "stdout",
          "output_type": "stream",
          "text": [
            "Usage: bentoml containerize [OPTIONS] BENTO_TAG\n",
            "Try 'bentoml containerize -h' for help.\n",
            "\n",
            "Error: No such option: --tag Did you mean --target?\n"
          ]
        }
      ],
      "source": [
        "!bentoml containerize fraud_classifier:latest --tag=registry.digitalocean.com/ml-models/fraud-classifier:latest --platform=linux/amd64"
      ]
    },
    {
      "cell_type": "markdown",
      "metadata": {},
      "source": [
        "Before we push our image to the registry, let's test that the service is working. Instantiate the service by running the following command in your terminal:\n",
        "```\n",
        "docker run -p 3000:5000 registry.digitalocean.com/ml-models/fraud-classifier:latest --workers=2\n",
        "```"
      ]
    },
    {
      "cell_type": "markdown",
      "metadata": {},
      "source": [
        "Navigate to `localhost:3000` in your browser and test the API with the previous POST request."
      ]
    },
    {
      "cell_type": "markdown",
      "metadata": {},
      "source": [
        "![Test the API locally](media/test_api.png)"
      ]
    },
    {
      "cell_type": "markdown",
      "metadata": {},
      "source": [
        "Ensure the response output is as expected (either 1 or 0). If there are any errors, you likely made a mistake in the **FraudClassifier** class.\n",
        "\n",
        "Once that's good, we just have standard docker stuff now. Let's push our image to the registry."
      ]
    },
    {
      "cell_type": "code",
      "execution_count": 16,
      "metadata": {},
      "outputs": [
        {
          "name": "stdout",
          "output_type": "stream",
          "text": [
            "The push refers to repository [registry.digitalocean.com/ml-models/fraud-classifier]\n",
            "\n",
            "\u001b[1Ba7f7463f: Preparing \n",
            "\u001b[1B36d63b4d: Preparing \n",
            "\u001b[1Bdbae906f: Preparing \n",
            "\u001b[1B6e2812f1: Preparing \n",
            "\u001b[1B02c667f8: Preparing \n",
            "\u001b[1Bf2ada3b7: Preparing \n",
            "\u001b[1Bba7358a0: Preparing \n",
            "\u001b[1B6610b4ce: Preparing \n",
            "\u001b[1Bf9b1552a: Preparing \n",
            "\u001b[1B148d3e7c: Preparing \n",
            "\u001b[1Bef851fa5: Preparing \n",
            "\u001b[1B01b290f0: Preparing \n",
            "\u001b[1Bcf49c90c: Preparing \n",
            "\u001b[1Bcc4915ef: Preparing \n",
            "\u001b[1B5f184b49: Preparing \n",
            "\u001b[1B4afccd60: Preparing \n",
            "\u001b[1B09dcc974: Preparing \n",
            "\u001b[1B08ab7cf3: Preparing \n",
            "\u001b[1B5b992fc1: Preparing \n",
            "\u001b[1B8986f350: Preparing \n",
            "\u001b[1Bab4c463e: Preparing \n",
            "\u001b[18B2c667f8: Pushed   877.7MB/871.9MB\u001b[22A\u001b[2K\u001b[19A\u001b[2K\u001b[18A\u001b[2K\u001b[18A\u001b[2K\u001b[18A\u001b[2K\u001b[18A\u001b[2K\u001b[18A\u001b[2K\u001b[18A\u001b[2K\u001b[18A\u001b[2K\u001b[18A\u001b[2K\u001b[18A\u001b[2K\u001b[18A\u001b[2K\u001b[18A\u001b[2K\u001b[18A\u001b[2K\u001b[18A\u001b[2K\u001b[18A\u001b[2K\u001b[18A\u001b[2K\u001b[18A\u001b[2K\u001b[18A\u001b[2K\u001b[18A\u001b[2K\u001b[18A\u001b[2K\u001b[18A\u001b[2K\u001b[18A\u001b[2K\u001b[18A\u001b[2K\u001b[18A\u001b[2K\u001b[18A\u001b[2K\u001b[18A\u001b[2K\u001b[18A\u001b[2K\u001b[18A\u001b[2K\u001b[18A\u001b[2K\u001b[18A\u001b[2K\u001b[18A\u001b[2K\u001b[18A\u001b[2K\u001b[18A\u001b[2K\u001b[18A\u001b[2K\u001b[18A\u001b[2K\u001b[18A\u001b[2K\u001b[18A\u001b[2K\u001b[18A\u001b[2K\u001b[18A\u001b[2K\u001b[18A\u001b[2K\u001b[18A\u001b[2K\u001b[18A\u001b[2K\u001b[18A\u001b[2K\u001b[18A\u001b[2K\u001b[18A\u001b[2K\u001b[18A\u001b[2K\u001b[18A\u001b[2K\u001b[18A\u001b[2K\u001b[18A\u001b[2K\u001b[18A\u001b[2K\u001b[18A\u001b[2K\u001b[18A\u001b[2K\u001b[18A\u001b[2K\u001b[18A\u001b[2K\u001b[18A\u001b[2K\u001b[18A\u001b[2K\u001b[18A\u001b[2K\u001b[18A\u001b[2K\u001b[18A\u001b[2K\u001b[18A\u001b[2K\u001b[18A\u001b[2K\u001b[18A\u001b[2K\u001b[18A\u001b[2K\u001b[18A\u001b[2K\u001b[18A\u001b[2K\u001b[18A\u001b[2K\u001b[18A\u001b[2K\u001b[20A\u001b[2K\u001b[18A\u001b[2K\u001b[18A\u001b[2K\u001b[18A\u001b[2K\u001b[18A\u001b[2K\u001b[18A\u001b[2K\u001b[18A\u001b[2K\u001b[18A\u001b[2K\u001b[18A\u001b[2K\u001b[18A\u001b[2K\u001b[18A\u001b[2K\u001b[18A\u001b[2K\u001b[18A\u001b[2K\u001b[18A\u001b[2K\u001b[18A\u001b[2K\u001b[18A\u001b[2K\u001b[18A\u001b[2K\u001b[18A\u001b[2K\u001b[18A\u001b[2K\u001b[18A\u001b[2K\u001b[18A\u001b[2K\u001b[18A\u001b[2K\u001b[18A\u001b[2K\u001b[18A\u001b[2K\u001b[18A\u001b[2K\u001b[18A\u001b[2K\u001b[18A\u001b[2K\u001b[18A\u001b[2K\u001b[18A\u001b[2K\u001b[18A\u001b[2K\u001b[18A\u001b[2K\u001b[18A\u001b[2K\u001b[18A\u001b[2K\u001b[15A\u001b[2K\u001b[18A\u001b[2K\u001b[18A\u001b[2K\u001b[18A\u001b[2K\u001b[18A\u001b[2K\u001b[18A\u001b[2K\u001b[18A\u001b[2K\u001b[18A\u001b[2K\u001b[18A\u001b[2K\u001b[18A\u001b[2K\u001b[13A\u001b[2K\u001b[18A\u001b[2K\u001b[18A\u001b[2K\u001b[18A\u001b[2K\u001b[18A\u001b[2K\u001b[18A\u001b[2K\u001b[18A\u001b[2K\u001b[18A\u001b[2K\u001b[18A\u001b[2K\u001b[18A\u001b[2K\u001b[18A\u001b[2K\u001b[18A\u001b[2K\u001b[18A\u001b[2K\u001b[18A\u001b[2K\u001b[18A\u001b[2K\u001b[18A\u001b[2K\u001b[18A\u001b[2K\u001b[18A\u001b[2K\u001b[18A\u001b[2K\u001b[18A\u001b[2K\u001b[18A\u001b[2K\u001b[18A\u001b[2K\u001b[18A\u001b[2K\u001b[18A\u001b[2K\u001b[18A\u001b[2K\u001b[18A\u001b[2K\u001b[18A\u001b[2K\u001b[18A\u001b[2K\u001b[18A\u001b[2K\u001b[9A\u001b[2K\u001b[18A\u001b[2K\u001b[18A\u001b[2K\u001b[18A\u001b[2K\u001b[18A\u001b[2K\u001b[18A\u001b[2K\u001b[18A\u001b[2K\u001b[18A\u001b[2K\u001b[18A\u001b[2K\u001b[18A\u001b[2K\u001b[18A\u001b[2K\u001b[18A\u001b[2K\u001b[18A\u001b[2K\u001b[18A\u001b[2K\u001b[18A\u001b[2K\u001b[8A\u001b[2K\u001b[18A\u001b[2K\u001b[18A\u001b[2K\u001b[18A\u001b[2K\u001b[18A\u001b[2K\u001b[18A\u001b[2K\u001b[17A\u001b[2K\u001b[7A\u001b[2K\u001b[18A\u001b[2K\u001b[18A\u001b[2K\u001b[18A\u001b[2K\u001b[18A\u001b[2K\u001b[6A\u001b[2K\u001b[18A\u001b[2K\u001b[18A\u001b[2K\u001b[18A\u001b[2K\u001b[18A\u001b[2K\u001b[18A\u001b[2K\u001b[18A\u001b[2K\u001b[18A\u001b[2K\u001b[18A\u001b[2K\u001b[18A\u001b[2K\u001b[18A\u001b[2K\u001b[18A\u001b[2K\u001b[18A\u001b[2K\u001b[18A\u001b[2K\u001b[18A\u001b[2K\u001b[3A\u001b[2K\u001b[18A\u001b[2K\u001b[18A\u001b[2K\u001b[18A\u001b[2K\u001b[18A\u001b[2K\u001b[2A\u001b[2K\u001b[18A\u001b[2K\u001b[18A\u001b[2K\u001b[18A\u001b[2K\u001b[18A\u001b[2K\u001b[18A\u001b[2K\u001b[18A\u001b[2K\u001b[18A\u001b[2K\u001b[18A\u001b[2K\u001b[1A\u001b[2K\u001b[18A\u001b[2K\u001b[18A\u001b[2K\u001b[18A\u001b[2K\u001b[18A\u001b[2K\u001b[18A\u001b[2K\u001b[18A\u001b[2K\u001b[18A\u001b[2K\u001b[18A\u001b[2K\u001b[18A\u001b[2K\u001b[18A\u001b[2K\u001b[18A\u001b[2K\u001b[18A\u001b[2K\u001b[18A\u001b[2K\u001b[18A\u001b[2K\u001b[18A\u001b[2K\u001b[18A\u001b[2K\u001b[18A\u001b[2K\u001b[18A\u001b[2K\u001b[18A\u001b[2K\u001b[18A\u001b[2K\u001b[18A\u001b[2K\u001b[18A\u001b[2K\u001b[18A\u001b[2K\u001b[18A\u001b[2K\u001b[18A\u001b[2K\u001b[18A\u001b[2K\u001b[18A\u001b[2K\u001b[18A\u001b[2K\u001b[18A\u001b[2K\u001b[18A\u001b[2K\u001b[18A\u001b[2K\u001b[18A\u001b[2K\u001b[18A\u001b[2K\u001b[18A\u001b[2K\u001b[18A\u001b[2K\u001b[18A\u001b[2K\u001b[18A\u001b[2K\u001b[18A\u001b[2K\u001b[18A\u001b[2K\u001b[18A\u001b[2K\u001b[18A\u001b[2K\u001b[18A\u001b[2K\u001b[18A\u001b[2K\u001b[18A\u001b[2K\u001b[18A\u001b[2K\u001b[18A\u001b[2K\u001b[18A\u001b[2K\u001b[18A\u001b[2K\u001b[18A\u001b[2K\u001b[18A\u001b[2K\u001b[18A\u001b[2K\u001b[18A\u001b[2K\u001b[18A\u001b[2K\u001b[18A\u001b[2K\u001b[18A\u001b[2K\u001b[18A\u001b[2K\u001b[18A\u001b[2K\u001b[18A\u001b[2K\u001b[18A\u001b[2K\u001b[18A\u001b[2K\u001b[18A\u001b[2K\u001b[18A\u001b[2K\u001b[18A\u001b[2K\u001b[18A\u001b[2K\u001b[18A\u001b[2K\u001b[18A\u001b[2K\u001b[18A\u001b[2K\u001b[18A\u001b[2K\u001b[18A\u001b[2K\u001b[18A\u001b[2K\u001b[18A\u001b[2K\u001b[18A\u001b[2K\u001b[18A\u001b[2K\u001b[18A\u001b[2K\u001b[18A\u001b[2K\u001b[18A\u001b[2K\u001b[18A\u001b[2K\u001b[18A\u001b[2K\u001b[18A\u001b[2K\u001b[18A\u001b[2K\u001b[18A\u001b[2K\u001b[18A\u001b[2K\u001b[18A\u001b[2K\u001b[18A\u001b[2K\u001b[18A\u001b[2K\u001b[18A\u001b[2K\u001b[18A\u001b[2K\u001b[18A\u001b[2K\u001b[18A\u001b[2K\u001b[18A\u001b[2K\u001b[18A\u001b[2K\u001b[18A\u001b[2K\u001b[18A\u001b[2K\u001b[18A\u001b[2K\u001b[18A\u001b[2K\u001b[18A\u001b[2K\u001b[18A\u001b[2K\u001b[18A\u001b[2K\u001b[18A\u001b[2K\u001b[18A\u001b[2K\u001b[18A\u001b[2K\u001b[18A\u001b[2K\u001b[18A\u001b[2K\u001b[18A\u001b[2Klatest: digest: sha256:7a3c0ea79b4ca1db06172c57474c55857a3e152ae5c5fc010540bf1b1b02e2b4 size: 4920\n"
          ]
        }
      ],
      "source": [
        "!docker push registry.digitalocean.com/ml-models/fraud-classifier:latest"
      ]
    },
    {
      "cell_type": "markdown",
      "metadata": {},
      "source": [
        "## Deploy your service"
      ]
    },
    {
      "cell_type": "markdown",
      "metadata": {},
      "source": [
        "Well done! Now, there's only one thing left to do. We need to deploy our service images Kubernetes!\n",
        "\n",
        "Firstlt, let's authorize access to the DigitalOcean Container Registry and pipe the access secret to kubectl:"
      ]
    },
    {
      "cell_type": "code",
      "execution_count": 24,
      "metadata": {},
      "outputs": [
        {
          "name": "stdout",
          "output_type": "stream",
          "text": [
            "secret/registry-ml-models configured\n"
          ]
        }
      ],
      "source": [
        "!doctl registry kubernetes-manifest | kubectl apply -f -"
      ]
    },
    {
      "cell_type": "markdown",
      "metadata": {},
      "source": [
        "Now, let's use this uploaded secret to authenticate our pulls from the registry:"
      ]
    },
    {
      "cell_type": "code",
      "execution_count": 23,
      "metadata": {},
      "outputs": [
        {
          "name": "stdout",
          "output_type": "stream",
          "text": [
            "serviceaccount/default patched\n"
          ]
        }
      ],
      "source": [
        "!kubectl patch serviceaccount default -p '{\"imagePullSecrets\": [{\"name\": \"registry-ml-models\"}]}'"
      ]
    },
    {
      "cell_type": "markdown",
      "metadata": {},
      "source": [
        "Finally, let's create the deployment:"
      ]
    },
    {
      "cell_type": "code",
      "execution_count": 25,
      "metadata": {},
      "outputs": [
        {
          "name": "stdout",
          "output_type": "stream",
          "text": [
            "deployment.apps/fraud-classifier created\n"
          ]
        }
      ],
      "source": [
        "!kubectl create deployment fraud-classifier --image=registry.digitalocean.com/ml-models/fraud-classifier:latest"
      ]
    },
    {
      "cell_type": "markdown",
      "metadata": {},
      "source": [
        "You can confirm it is now running and viewing all Replica Sets."
      ]
    },
    {
      "cell_type": "code",
      "execution_count": 26,
      "metadata": {},
      "outputs": [
        {
          "name": "stdout",
          "output_type": "stream",
          "text": [
            "NAME                          DESIRED   CURRENT   READY   AGE\n",
            "fraud-classifier-54b7874949   1         1         1       8s\n",
            "NAME                                READY   STATUS    RESTARTS   AGE\n",
            "fraud-classifier-54b7874949-6s69s   1/1     Running   0          10s\n"
          ]
        }
      ],
      "source": [
        "!kubectl get rs\n",
        "!kubectl get pods"
      ]
    },
    {
      "cell_type": "markdown",
      "metadata": {},
      "source": [
        "We need a load balancer to expose our Bento service and make our Fraud Classifier scalable to multiple pods. Let's create one quickly, forwarding port 80 to the target port 5000."
      ]
    },
    {
      "cell_type": "code",
      "execution_count": 27,
      "metadata": {},
      "outputs": [
        {
          "name": "stdout",
          "output_type": "stream",
          "text": [
            "service/fraud-classifier exposed\n"
          ]
        }
      ],
      "source": [
        "!kubectl expose deployment fraud-classifier --type=LoadBalancer --port=80 --target-port=5000"
      ]
    },
    {
      "cell_type": "markdown",
      "metadata": {},
      "source": [
        "This will take a few minutes to create. Using the following `doctl` command, we can monitor the progress of the load balancer deployment:"
      ]
    },
    {
      "cell_type": "code",
      "execution_count": 30,
      "metadata": {},
      "outputs": [
        {
          "name": "stdout",
          "output_type": "stream",
          "text": [
            "Name                                Created At              IP                Status\n",
            "affbe322705e74689ac5f06a1d557070    2022-07-20T08:35:28Z    146.190.13.199    active\n",
            "a1fa8ce40a5234abebea701bcd4f24fb    2022-07-21T15:09:48Z    146.190.13.233    active\n"
          ]
        }
      ],
      "source": [
        "!doctl compute load-balancer list --format Name,Created,IP,Status"
      ]
    },
    {
      "cell_type": "markdown",
      "metadata": {},
      "source": [
        "Now that the load balancer is live, let's make sure our service is live! Grab the IP from of the load balancer and navigate to it in your browse"
      ]
    },
    {
      "cell_type": "markdown",
      "metadata": {},
      "source": [
        "![Live App](media/live_app.png)\n",
        "\n",
        "Congratulations, you've deployed your fraud classifier as an API!"
      ]
    }
  ],
  "metadata": {
    "colab": {
      "name": "explore.ipynb",
      "provenance": []
    },
    "kernelspec": {
      "display_name": "Python 3.9.12 ('base')",
      "language": "python",
      "name": "python3"
    },
    "language_info": {
      "codemirror_mode": {
        "name": "ipython",
        "version": 3
      },
      "file_extension": ".py",
      "mimetype": "text/x-python",
      "name": "python",
      "nbconvert_exporter": "python",
      "pygments_lexer": "ipython3",
      "version": "3.9.12"
    },
    "orig_nbformat": 4,
    "vscode": {
      "interpreter": {
        "hash": "8f7fc29b09bceb45b96f31c421af977920dd07416ec6e051f1e8d585e72b0202"
      }
    }
  },
  "nbformat": 4,
  "nbformat_minor": 0
}
