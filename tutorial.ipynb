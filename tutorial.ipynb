{
  "cells": [
    {
      "cell_type": "markdown",
      "metadata": {
        "id": "amnSfQ4S-im9"
      },
      "source": [
        "# Model Deployment with BentoML and DigitalOcean"
      ]
    },
    {
      "cell_type": "markdown",
      "metadata": {},
      "source": [
        "In this tutorial, we will be building a transaction fraud detection API using the [BentoML](https://bentoml.com) framework, and deploying it to DigitalOcean via Kubernetes."
      ]
    },
    {
      "cell_type": "markdown",
      "metadata": {},
      "source": [
        "Prerequisites:\n",
        "- Install Docker\n",
        "- Install Python3.8+\n",
        "- Install JupyterLab"
      ]
    },
    {
      "cell_type": "markdown",
      "metadata": {
        "id": "nY8jTgnQ_P08"
      },
      "source": [
        "By the end of this tutorial you will be able to:\n",
        "- Setup a Kubernetes cluster on DigitalOcean\n",
        "- Create Bentos with BentoML and containerize them\n",
        "- Create a image repository on DigitalOcean and upload your images\n",
        "- Deploy the a Bento service to Kubernetes using the DigitalOcean image repository\n",
        "  \n",
        "You should download the data required for this tutorial from [here](https://drive.google.com/file/d/1MidRYkLdAV-i0qytvsflIcKitK4atiAd/view?usp=sharing). This is originally from a [Kaggle dataset](https://www.kaggle.com/competitions/ieee-fraud-detection/data) for Fraud Detection. Place this dataset in a `data` directory in the root of your project. You can run this notebook either in VS Code or Jupyter Notebooks."
      ]
    },
    {
      "cell_type": "markdown",
      "metadata": {},
      "source": [
        "## Build a model"
      ]
    },
    {
      "cell_type": "markdown",
      "metadata": {},
      "source": [
        "Firstly, let's build a quick model to detect fraudulent transactions. We will need a number of libraries so lets install them.\n",
        "\n",
        "If you wish, create a virtual environment with conda or venv."
      ]
    },
    {
      "cell_type": "code",
      "execution_count": 1,
      "metadata": {},
      "outputs": [
        {
          "name": "stdout",
          "output_type": "stream",
          "text": [
            "Requirement already satisfied: numpy in /Users/elijahrou/mambaforge/lib/python3.9/site-packages (1.21.6)\n",
            "Requirement already satisfied: pandas in /Users/elijahrou/mambaforge/lib/python3.9/site-packages (1.4.1)\n",
            "Requirement already satisfied: xgboost in /Users/elijahrou/mambaforge/lib/python3.9/site-packages (1.5.1)\n",
            "Requirement already satisfied: scikit-learn in /Users/elijahrou/mambaforge/lib/python3.9/site-packages (1.0.2)\n",
            "Requirement already satisfied: python-dateutil>=2.8.1 in /Users/elijahrou/mambaforge/lib/python3.9/site-packages (from pandas) (2.8.1)\n",
            "Requirement already satisfied: pytz>=2020.1 in /Users/elijahrou/mambaforge/lib/python3.9/site-packages (from pandas) (2022.1)\n",
            "Requirement already satisfied: scipy in /Users/elijahrou/mambaforge/lib/python3.9/site-packages (from xgboost) (1.8.0)\n",
            "Requirement already satisfied: threadpoolctl>=2.0.0 in /Users/elijahrou/mambaforge/lib/python3.9/site-packages (from scikit-learn) (3.1.0)\n",
            "Requirement already satisfied: joblib>=0.11 in /Users/elijahrou/mambaforge/lib/python3.9/site-packages (from scikit-learn) (1.1.0)\n",
            "Requirement already satisfied: six>=1.5 in /Users/elijahrou/mambaforge/lib/python3.9/site-packages (from python-dateutil>=2.8.1->pandas) (1.16.0)\n"
          ]
        }
      ],
      "source": [
        "!pip install numpy pandas xgboost scikit-learn"
      ]
    },
    {
      "cell_type": "code",
      "execution_count": 2,
      "metadata": {
        "id": "rWI28p60-imy"
      },
      "outputs": [
        {
          "name": "stderr",
          "output_type": "stream",
          "text": [
            "/Users/elijahrou/mambaforge/envs/py38/lib/python3.8/site-packages/xgboost/compat.py:36: FutureWarning: pandas.Int64Index is deprecated and will be removed from pandas in a future version. Use pandas.Index with the appropriate dtype instead.\n",
            "  from pandas import MultiIndex, Int64Index\n"
          ]
        }
      ],
      "source": [
        "import numpy as np\n",
        "import pandas as pd\n",
        "from sklearn.preprocessing import OneHotEncoder\n",
        "from xgboost import XGBClassifier\n",
        "\n",
        "# Load the data, sample such that the target classes are equal size\n",
        "df = pd.read_csv(\"data/train_transaction.csv\")\n",
        "df = pd.concat([df[df.isFraud == 0].sample(n=len(df[df.isFraud == 1])), df[df.isFraud == 1]], axis=0)"
      ]
    },
    {
      "cell_type": "code",
      "execution_count": 3,
      "metadata": {
        "id": "kfnNtl0w-im3"
      },
      "outputs": [],
      "source": [
        "# Select the features and target\n",
        "X = df[[\"ProductCD\", \"P_emaildomain\", \"R_emaildomain\", \"card4\", \"M1\", \"M2\", \"M3\"]]\n",
        "y = df.isFraud"
      ]
    },
    {
      "cell_type": "code",
      "execution_count": 4,
      "metadata": {
        "id": "aOhahlIa-im4"
      },
      "outputs": [],
      "source": [
        "# Use one-hot encoding to encode the categorical features\n",
        "enc = OneHotEncoder(handle_unknown=\"ignore\")\n",
        "enc.fit(X)\n",
        "\n",
        "X = pd.DataFrame(enc.transform(X).toarray(), columns=enc.get_feature_names_out().reshape(-1))\n",
        "X[\"TransactionAmt\"] = df[[\"TransactionAmt\"]].to_numpy()"
      ]
    },
    {
      "cell_type": "code",
      "execution_count": 6,
      "metadata": {
        "id": "WqTZm01c-im6"
      },
      "outputs": [
        {
          "name": "stderr",
          "output_type": "stream",
          "text": [
            "/Users/elijahrou/mambaforge/envs/py38/lib/python3.8/site-packages/xgboost/sklearn.py:1224: UserWarning: The use of label encoder in XGBClassifier is deprecated and will be removed in a future release. To remove this warning, do the following: 1) Pass option use_label_encoder=False when constructing XGBClassifier object; and 2) Encode your labels (y) as integers starting with 0, i.e. 0, 1, 2, ..., [num_class - 1].\n",
            "  warnings.warn(label_encoder_deprecation_msg, UserWarning)\n",
            "/Users/elijahrou/mambaforge/envs/py38/lib/python3.8/site-packages/xgboost/data.py:262: FutureWarning: pandas.Int64Index is deprecated and will be removed from pandas in a future version. Use pandas.Index with the appropriate dtype instead.\n",
            "  elif isinstance(data.columns, (pd.Int64Index, pd.RangeIndex)):\n"
          ]
        },
        {
          "name": "stdout",
          "output_type": "stream",
          "text": [
            "[16:50:31] WARNING: /Users/runner/miniforge3/conda-bld/xgboost-split_1645117899018/work/src/learner.cc:1115: Starting in XGBoost 1.3.0, the default evaluation metric used with the objective 'binary:logistic' was changed from 'error' to 'logloss'. Explicitly set eval_metric if you'd like to restore the old behavior.\n"
          ]
        }
      ],
      "source": [
        "# Split the dataset and train the model\n",
        "from sklearn.model_selection import train_test_split\n",
        "X_train, X_test, y_train, y_test = train_test_split(X, y, test_size=0.2, random_state=42)\n",
        "xgb = XGBClassifier(n_estimators=100, learning_rate=0.1, max_depth=3, min_child_weight=1, gamma=0, subsample=0.8, colsample_bytree=0.8, objective='binary:logistic', nthread=4, scale_pos_weight=1, seed=27)\n",
        "model = xgb.fit(X_train, y_train)"
      ]
    },
    {
      "cell_type": "markdown",
      "metadata": {},
      "source": [
        "## Setup your Kubernetes Cluster"
      ]
    },
    {
      "cell_type": "markdown",
      "metadata": {
        "id": "oAyUYUtg-im_"
      },
      "source": [
        "So, you have built a model, and you want to deploy it so it's actually useful. How do you do that?\n",
        "\n",
        "Let's start by setting up a Kubernetes cluster on DigitalOcean. Sign up using [this link](https://try.digitalocean.com/freetrialoffer/) to recieve $100 in free credits. You will need to setup a payment method, but don't worry, it won't charge you just yet. If you haven't received your credits, email support if you don't want to be charged before proceeding with the tutorial."
      ]
    },
    {
      "cell_type": "markdown",
      "metadata": {},
      "source": [
        "Once you have created your account, you can go to the [DigitalOcean dashboard](https://cloud.digitalocean.com/dashboard) and click on the **Kubernetes** tab. You should be greeted with this screen. Click **Create a Kubernetes Cluster**.\n",
        "\n",
        "![Kubernetes Landing Page](media/kubernetes_landing_page.png)"
      ]
    },
    {
      "cell_type": "markdown",
      "metadata": {},
      "source": [
        "Follow the steps to create the cluster as you see fit. Since this is just a demonstration, when you select your capacity make sure you go down to the $12 a month tier.\n",
        "\n",
        "![Node $12 Tier](media/node_cheap_tier.png)"
      ]
    },
    {
      "cell_type": "markdown",
      "metadata": {},
      "source": [
        "You should now be greeted with a screen like this:\n",
        "![Kubernetes Setup](media/kube_setup.png)\n",
        "\n",
        "Click **Get Started** and follow the instructions to connect to your cluster. You will need to install the **kubectl** command line tool as well as the **doctl** command line tool. We have provided the command for Homebrew on MacOS, but you can also install however you wish."
      ]
    },
    {
      "cell_type": "code",
      "execution_count": 7,
      "metadata": {},
      "outputs": [
        {
          "name": "stdout",
          "output_type": "stream",
          "text": [
            "Running `brew update --auto-update`...\n",
            "\u001b[33mWarning:\u001b[0m doctl 1.78.0 is already installed and up-to-date.\n",
            "To reinstall 1.78.0, run:\n",
            "  brew reinstall doctl\n",
            "\u001b[33mWarning:\u001b[0m kubernetes-cli 1.24.3 is already installed and up-to-date.\n",
            "To reinstall 1.24.3, run:\n",
            "  brew reinstall kubernetes-cli\n"
          ]
        }
      ],
      "source": [
        "!brew install doctl kubectl"
      ]
    },
    {
      "cell_type": "markdown",
      "metadata": {},
      "source": [
        "Once that's done, you need to create a DigitalOcean API token. You can do this by going to the [DigitalOcean dashboard](https://cloud.digitalocean.com/dashboard) and clicking on the **API** tab.\n",
        "\n",
        "![API Tab](media/API.png)\n",
        "\n",
        "Once there, click **Generate New Token**. You should be promopted to name your token. Enter **fraud-classifier** and click **Generate Token**.\n",
        "\n",
        "![Token Promopt](media/token.png)"
      ]
    },
    {
      "cell_type": "markdown",
      "metadata": {},
      "source": [
        "You should now see your token. Copy it and run the following **doctl** commands. When prompted for the token string, paste it into the command line. You should run this in your terminal outside if this notebook.\n",
        "\n",
        "```\n",
        "doctl auth init --context fraud-classifier\n",
        "```"
      ]
    },
    {
      "cell_type": "markdown",
      "metadata": {},
      "source": [
        "Validate that the authorization was successful by running the following command:"
      ]
    },
    {
      "cell_type": "code",
      "execution_count": 8,
      "metadata": {},
      "outputs": [
        {
          "name": "stdout",
          "output_type": "stream",
          "text": [
            "User Email             Team       Droplet Limit    Email Verified    User UUID                               Status\n",
            "elijah@cerebrium.ai    My Team    10               true              63644d72-4ffb-40e3-b3b8-aa8bc8fb1723    active\n"
          ]
        }
      ],
      "source": [
        "!doctl account get"
      ]
    },
    {
      "cell_type": "markdown",
      "metadata": {},
      "source": [
        "Next, copy the command on step 2 and paste it into the notebook in the next cell. It should look something like this:"
      ]
    },
    {
      "cell_type": "code",
      "execution_count": 9,
      "metadata": {},
      "outputs": [],
      "source": [
        "# !doctl kubernetes cluster kubeconfig save 423427f5-50aa-47ec-90a6-2be9494327d1"
      ]
    },
    {
      "cell_type": "markdown",
      "metadata": {},
      "source": [
        "Verify that the connection has worked by running kubectl:"
      ]
    },
    {
      "cell_type": "code",
      "execution_count": 10,
      "metadata": {},
      "outputs": [
        {
          "name": "stdout",
          "output_type": "stream",
          "text": [
            "CURRENT   NAME                                                 CLUSTER                                              AUTHINFO                                             NAMESPACE\n",
            "          arn:aws:eks:eu-west-1:288552132534:cluster/prefect   arn:aws:eks:eu-west-1:288552132534:cluster/prefect   arn:aws:eks:eu-west-1:288552132534:cluster/prefect   \n",
            "*         do-sfo3-test-k8s                                     do-sfo3-test-k8s                                     do-sfo3-test-k8s-admin                               \n",
            "          minikube                                             minikube                                             minikube                                             default\n",
            "          yatai-comp                                           do-sfo3-test-k8s-admin                               do-sfo3-test-k8s-admin                               yatai-components\n",
            "          yatai-ops                                            do-sfo3-test-k8s-admin                               do-sfo3-test-k8s-admin                               yatai-operators\n",
            "          yatai-sys                                            do-sfo3-test-k8s-admin                               do-sfo3-test-k8s-admin                               yatai-system\n",
            "\u001b[0;32mKubernetes control plane\u001b[0m is running at \u001b[0;33mhttps://3fb3e9e7-58ac-44cb-af9c-203c3cad19fd.k8s.ondigitalocean.com\u001b[0m\n",
            "\u001b[0;32mCoreDNS\u001b[0m is running at \u001b[0;33mhttps://3fb3e9e7-58ac-44cb-af9c-203c3cad19fd.k8s.ondigitalocean.com/api/v1/namespaces/kube-system/services/kube-dns:dns/proxy\u001b[0m\n",
            "\n",
            "To further debug and diagnose cluster problems, use 'kubectl cluster-info dump'.\n"
          ]
        }
      ],
      "source": [
        "!kubectl config get-contexts\n",
        "!kubectl cluster-info"
      ]
    },
    {
      "cell_type": "markdown",
      "metadata": {},
      "source": [
        "Congratulations! You have now setup a Kubernetes cluster on DigitalOcean. Now that we have the infrastructure, we need to create a API service for our fraud detection model."
      ]
    },
    {
      "cell_type": "markdown",
      "metadata": {},
      "source": [
        "## Create a Bento Service"
      ]
    },
    {
      "cell_type": "markdown",
      "metadata": {},
      "source": [
        "While there are a number of tools that ease the stress of deploying a model, one of the more straightforward ways is to use the [BentoML](https://bentoml.com) framework. BentoML is a framework for deploying machine learning models that pre-packages the model for you into a callable REST API. We use BentoML as it is both easy to use, will infer what packages we need and can deploy to multiple different clouds and infrastructures."
      ]
    },
    {
      "cell_type": "markdown",
      "metadata": {
        "id": "b9_u80OM-im_"
      },
      "source": [
        "Install the BentoML LTS release with the following command (don't use 1.0.0, it is currently pre-release):\n",
        "\n",
        "```"
      ]
    },
    {
      "cell_type": "code",
      "execution_count": 3,
      "metadata": {
        "colab": {
          "base_uri": "https://localhost:8080/"
        },
        "id": "bDtTtB9V-8XW",
        "outputId": "ae8c366c-985f-42ea-c9db-849fb6114206"
      },
      "outputs": [
        {
          "name": "stdout",
          "output_type": "stream",
          "text": [
            "Requirement already satisfied: bentoml in /Users/elijahrou/mambaforge/lib/python3.9/site-packages (0.13.0)\n",
            "Requirement already satisfied: aiohttp in /Users/elijahrou/mambaforge/lib/python3.9/site-packages (from bentoml) (3.8.1)\n",
            "Requirement already satisfied: boto3 in /Users/elijahrou/mambaforge/lib/python3.9/site-packages (from bentoml) (1.21.37)\n",
            "Requirement already satisfied: chardet in /Users/elijahrou/mambaforge/lib/python3.9/site-packages (from bentoml) (4.0.0)\n",
            "Requirement already satisfied: tabulate in /Users/elijahrou/mambaforge/lib/python3.9/site-packages (from bentoml) (0.8.9)\n",
            "Requirement already satisfied: grpcio in /Users/elijahrou/mambaforge/lib/python3.9/site-packages (from bentoml) (1.45.0)\n",
            "Requirement already satisfied: alembic in /Users/elijahrou/mambaforge/lib/python3.9/site-packages (from bentoml) (1.7.7)\n",
            "Requirement already satisfied: gunicorn in /Users/elijahrou/mambaforge/lib/python3.9/site-packages (from bentoml) (20.1.0)\n",
            "Requirement already satisfied: humanfriendly in /Users/elijahrou/mambaforge/lib/python3.9/site-packages (from bentoml) (10.0)\n",
            "Requirement already satisfied: deepmerge in /Users/elijahrou/mambaforge/lib/python3.9/site-packages (from bentoml) (1.0.1)\n",
            "Requirement already satisfied: configparser in /Users/elijahrou/mambaforge/lib/python3.9/site-packages (from bentoml) (5.2.0)\n",
            "Requirement already satisfied: protobuf>=3.8.0 in /Users/elijahrou/mambaforge/lib/python3.9/site-packages (from bentoml) (3.19.4)\n",
            "Requirement already satisfied: psutil in /Users/elijahrou/mambaforge/lib/python3.9/site-packages (from bentoml) (5.9.0)\n",
            "Requirement already satisfied: requests in /Users/elijahrou/mambaforge/lib/python3.9/site-packages (from bentoml) (2.25.1)\n",
            "Requirement already satisfied: dependency-injector<5.0,>=4.0 in /Users/elijahrou/mambaforge/lib/python3.9/site-packages (from bentoml) (4.39.1)\n",
            "Requirement already satisfied: python-json-logger in /Users/elijahrou/mambaforge/lib/python3.9/site-packages (from bentoml) (2.0.1)\n",
            "Requirement already satisfied: click>=7.0 in /Users/elijahrou/mambaforge/lib/python3.9/site-packages (from bentoml) (8.1.3)\n",
            "Requirement already satisfied: packaging in /Users/elijahrou/mambaforge/lib/python3.9/site-packages (from bentoml) (20.9)\n",
            "Requirement already satisfied: docker in /Users/elijahrou/mambaforge/lib/python3.9/site-packages (from bentoml) (5.0.3)\n",
            "Requirement already satisfied: certifi in /Users/elijahrou/mambaforge/lib/python3.9/site-packages (from bentoml) (2022.6.15)\n",
            "Requirement already satisfied: numpy in /Users/elijahrou/mambaforge/lib/python3.9/site-packages (from bentoml) (1.21.6)\n",
            "Requirement already satisfied: sqlalchemy<1.4.0,>=1.3.0 in /Users/elijahrou/mambaforge/lib/python3.9/site-packages (from bentoml) (1.3.24)\n",
            "Requirement already satisfied: sqlalchemy-utils<0.36.8 in /Users/elijahrou/mambaforge/lib/python3.9/site-packages (from bentoml) (0.36.7)\n",
            "Requirement already satisfied: python-dateutil<3.0.0,>=2.7.3 in /Users/elijahrou/mambaforge/lib/python3.9/site-packages (from bentoml) (2.8.1)\n",
            "Requirement already satisfied: aiohttp-cors==0.7.0 in /Users/elijahrou/mambaforge/lib/python3.9/site-packages (from bentoml) (0.7.0)\n",
            "Requirement already satisfied: schema in /Users/elijahrou/mambaforge/lib/python3.9/site-packages (from bentoml) (0.7.5)\n",
            "Requirement already satisfied: urllib3<=1.25.11 in /Users/elijahrou/mambaforge/lib/python3.9/site-packages (from bentoml) (1.25.11)\n",
            "Requirement already satisfied: cerberus in /Users/elijahrou/mambaforge/lib/python3.9/site-packages (from bentoml) (1.3.4)\n",
            "Requirement already satisfied: ruamel.yaml>=0.15.0 in /Users/elijahrou/mambaforge/lib/python3.9/site-packages (from bentoml) (0.17.21)\n",
            "Requirement already satisfied: flask in /Users/elijahrou/mambaforge/lib/python3.9/site-packages (from bentoml) (2.0.3)\n",
            "Requirement already satisfied: prometheus-client in /Users/elijahrou/mambaforge/lib/python3.9/site-packages (from bentoml) (0.14.1)\n",
            "Requirement already satisfied: attrs>=17.3.0 in /Users/elijahrou/mambaforge/lib/python3.9/site-packages (from aiohttp->bentoml) (21.4.0)\n",
            "Requirement already satisfied: frozenlist>=1.1.1 in /Users/elijahrou/mambaforge/lib/python3.9/site-packages (from aiohttp->bentoml) (1.3.0)\n",
            "Requirement already satisfied: async-timeout<5.0,>=4.0.0a3 in /Users/elijahrou/mambaforge/lib/python3.9/site-packages (from aiohttp->bentoml) (4.0.2)\n",
            "Requirement already satisfied: aiosignal>=1.1.2 in /Users/elijahrou/mambaforge/lib/python3.9/site-packages (from aiohttp->bentoml) (1.2.0)\n",
            "Requirement already satisfied: yarl<2.0,>=1.0 in /Users/elijahrou/mambaforge/lib/python3.9/site-packages (from aiohttp->bentoml) (1.7.2)\n",
            "Requirement already satisfied: charset-normalizer<3.0,>=2.0 in /Users/elijahrou/mambaforge/lib/python3.9/site-packages (from aiohttp->bentoml) (2.0.12)\n",
            "Requirement already satisfied: multidict<7.0,>=4.5 in /Users/elijahrou/mambaforge/lib/python3.9/site-packages (from aiohttp->bentoml) (6.0.2)\n",
            "Requirement already satisfied: six<=1.16.0,>=1.7.0 in /Users/elijahrou/mambaforge/lib/python3.9/site-packages (from dependency-injector<5.0,>=4.0->bentoml) (1.16.0)\n",
            "Requirement already satisfied: ruamel.yaml.clib>=0.2.6 in /Users/elijahrou/mambaforge/lib/python3.9/site-packages (from ruamel.yaml>=0.15.0->bentoml) (0.2.6)\n",
            "Requirement already satisfied: Mako in /Users/elijahrou/mambaforge/lib/python3.9/site-packages (from alembic->bentoml) (1.2.0)\n",
            "Requirement already satisfied: botocore<1.25.0,>=1.24.37 in /Users/elijahrou/mambaforge/lib/python3.9/site-packages (from boto3->bentoml) (1.24.37)\n",
            "Requirement already satisfied: s3transfer<0.6.0,>=0.5.0 in /Users/elijahrou/mambaforge/lib/python3.9/site-packages (from boto3->bentoml) (0.5.2)\n",
            "Requirement already satisfied: jmespath<2.0.0,>=0.7.1 in /Users/elijahrou/mambaforge/lib/python3.9/site-packages (from boto3->bentoml) (0.10.0)\n",
            "Requirement already satisfied: setuptools in /Users/elijahrou/mambaforge/lib/python3.9/site-packages (from cerberus->bentoml) (62.1.0)\n",
            "Requirement already satisfied: websocket-client>=0.32.0 in /Users/elijahrou/mambaforge/lib/python3.9/site-packages (from docker->bentoml) (1.3.2)\n",
            "Requirement already satisfied: idna<3,>=2.5 in /Users/elijahrou/mambaforge/lib/python3.9/site-packages (from requests->bentoml) (2.10)\n",
            "Requirement already satisfied: itsdangerous>=2.0 in /Users/elijahrou/mambaforge/lib/python3.9/site-packages (from flask->bentoml) (2.1.2)\n",
            "Requirement already satisfied: Werkzeug>=2.0 in /Users/elijahrou/mambaforge/lib/python3.9/site-packages (from flask->bentoml) (2.1.2)\n",
            "Requirement already satisfied: Jinja2>=3.0 in /Users/elijahrou/mambaforge/lib/python3.9/site-packages (from flask->bentoml) (3.1.2)\n",
            "Requirement already satisfied: pyparsing>=2.0.2 in /Users/elijahrou/mambaforge/lib/python3.9/site-packages (from packaging->bentoml) (3.0.8)\n",
            "Requirement already satisfied: contextlib2>=0.5.5 in /Users/elijahrou/mambaforge/lib/python3.9/site-packages (from schema->bentoml) (0.5.5)\n",
            "Requirement already satisfied: MarkupSafe>=2.0 in /Users/elijahrou/mambaforge/lib/python3.9/site-packages (from Jinja2>=3.0->flask->bentoml) (2.0.1)\n"
          ]
        }
      ],
      "source": [
        "!pip install bentoml==0.13"
      ]
    },
    {
      "cell_type": "markdown",
      "metadata": {
        "id": "L3nJISPC-im_"
      },
      "source": [
        "Next, you will need to create a Bento service. This tells Bento what model to use, and what preprocessing needs to be done to run inference. We are going to package the model we created for Fraud Detection in the first section.\n",
        "\n",
        "Create a new file called `fraud_detection_service.py` in the project root directory, and paste the following code into it:"
      ]
    },
    {
      "cell_type": "markdown",
      "metadata": {
        "id": "2rQaAS8f-inA"
      },
      "source": [
        "```python\n",
        "import pandas as pd\n",
        "from sklearn.preprocessing import OneHotEncoder\n",
        "from xgboost import XGBClassifier\n",
        "\n",
        "from bentoml import env, artifacts, api, BentoService\n",
        "from bentoml.adapters import DataframeInput, JsonOutput\n",
        "from bentoml.frameworks.sklearn import SklearnModelArtifact\n",
        "\n",
        "@env(infer_pip_packages=True)\n",
        "@artifacts([SklearnModelArtifact('model'), SklearnModelArtifact('encoder')])\n",
        "class FraudClassifier(BentoService):\n",
        "    @api(input=DataframeInput(), output=JsonOutput(), batch=True)\n",
        "    def predict(self, df):\n",
        "        model = self.artifacts.model\n",
        "        enc = self.artifacts.encoder\n",
        "\n",
        "        X = df[[\"ProductCD\", \"P_emaildomain\", \"R_emaildomain\", \"card4\", \"M1\", \"M2\", \"M3\"]]\n",
        "        X = X.fillna(pd.NA) # ensure all missing values are pandas NA\n",
        "        X = pd.DataFrame(enc.transform(X).toarray(), columns=enc.get_feature_names_out().reshape(-1))\n",
        "        X[\"TransactionAmt\"] = df[[\"TransactionAmt\"]].to_numpy()\n",
        "        return model.predict(X)\n",
        "```"
      ]
    },
    {
      "cell_type": "markdown",
      "metadata": {
        "id": "kKmFlOov-inA"
      },
      "source": [
        "There are a number of key concepts presented in this file.\n",
        "\n",
        "- `env`: This is a decorator that tells BentoML to infer the dependencies of the model.\n",
        "- `artifacts`: This is a decorator that tells BentoML what kind of models it must load into the service (could be PyTorch, XGBoost, or any other SKLearn based model). In this case, we are loading two objects called `model` and `encoder`, which refer to the model and one-hot encoder we built in the first section respectively. These are accessible via the `self.artifacts` object.\n",
        "- `api`: This is a decorator that tells BentoML this is an API, and what kind of input and output the API accepts. In this case, we are using a DataframeInput and JsonOutput.\n",
        "\n",
        "As you can see, the FraudClassifier class represents a BentoML service. We run all necessary pre-processing with the **encoder**, then call the **model** to make predictions. You may notice we use SklearnModelArtifacts for the 'model' artifact, even though it is an XGBoost model. This is as we have used the SKLearn API to create the model."
      ]
    },
    {
      "cell_type": "markdown",
      "metadata": {
        "id": "Us8A2VZH-inB"
      },
      "source": [
        "Now, we want to create our Bento service using the **model** and **enc** objects we created before. We will instantiate the service in our notebook or REPL, create the reference artifact to our model as 'model' and our one-hot encoder as 'encoder' using `pack`, and then save it to the local Bento repository."
      ]
    },
    {
      "cell_type": "code",
      "execution_count": 12,
      "metadata": {
        "colab": {
          "base_uri": "https://localhost:8080/",
          "height": 508
        },
        "id": "w811MKin-inB",
        "outputId": "9465023c-0dd6-48bf-8891-ec7340ccd0c7"
      },
      "outputs": [
        {
          "name": "stdout",
          "output_type": "stream",
          "text": [
            "[2022-07-21 16:50:49,871] INFO - BentoService bundle 'FraudClassifier:20220721165048_CA4C6D' saved to: /Users/elijahrou/bentoml/repository/FraudClassifier/20220721165048_CA4C6D\n"
          ]
        },
        {
          "data": {
            "text/plain": [
              "'/Users/elijahrou/bentoml/repository/FraudClassifier/20220721165048_CA4C6D'"
            ]
          },
          "execution_count": 12,
          "metadata": {},
          "output_type": "execute_result"
        }
      ],
      "source": [
        "from fraud_detection_service import FraudClassifier\n",
        "fraud_classifier_service = FraudClassifier()\n",
        "fraud_classifier_service.pack('encoder', enc)\n",
        "fraud_classifier_service.pack('model', model)\n",
        "fraud_classifier_service.save()"
      ]
    },
    {
      "cell_type": "markdown",
      "metadata": {
        "id": "ET1P-fQ0-inC"
      },
      "source": [
        "Wait, that's it? Well, kinda. Our model isn't deployed yet, just ready to be packaged. We're now going to containerize the Bento and deploy it to our DigitalOcean K8s cluster."
      ]
    },
    {
      "cell_type": "markdown",
      "metadata": {},
      "source": [
        "## Bento Containerization"
      ]
    },
    {
      "cell_type": "markdown",
      "metadata": {},
      "source": [
        "Before we containerize and test our Bento, we should create a repository on the Digital Ocean image registry to push our service image to.\n",
        "\n",
        "Using `doctl`, create a new registry named **ml-models** and log in."
      ]
    },
    {
      "cell_type": "code",
      "execution_count": 13,
      "metadata": {},
      "outputs": [
        {
          "name": "stdout",
          "output_type": "stream",
          "text": [
            "\u001b[31mError\u001b[0m: POST https://api.digitalocean.com/v2/registry: 409 (request \"d7ee6ed9-b551-466a-807f-5d07a7aca2d9\") name already exists\n",
            "Logging Docker in to registry.digitalocean.com\n"
          ]
        }
      ],
      "source": [
        "!doctl registry create ml-models\n",
        "!doctl registry login"
      ]
    },
    {
      "cell_type": "markdown",
      "metadata": {},
      "source": [
        "Awesome! We have a registry. Now, we need to create the service container. Using `bentoml list`, locate the appropriate image for the service and copy the label. It should be the latest one at the top of the list."
      ]
    },
    {
      "cell_type": "code",
      "execution_count": 14,
      "metadata": {},
      "outputs": [
        {
          "name": "stdout",
          "output_type": "stream",
          "text": [
            "\u001b[39mBENTO_SERVICE                          AGE                           APIS                                   ARTIFACTS                                                   LABELS\n",
            "FraudClassifier:20220721165048_CA4C6D  7.5 seconds                   predict<DataframeInput:JsonOutput>     model<SklearnModelArtifact>, encoder<SklearnModelArtifact>\n",
            "FraudClassifier:20220721164716_0DF2EA  3 minutes and 38.88 seconds   predict<DataframeInput:JsonOutput>     model<SklearnModelArtifact>, encoder<SklearnModelArtifact>\n",
            "FraudClassifier:20220721164438_E6877F  6 minutes and 17.02 seconds   predict<DataframeInput:JsonOutput>     model<SklearnModelArtifact>, encoder<SklearnModelArtifact>\n",
            "FraudClassifier:20220721164048_7728DD  10 minutes and 7.39 seconds   predict<DataframeInput:JsonOutput>     model<SklearnModelArtifact>, encoder<SklearnModelArtifact>\n",
            "FraudClassifier:20220721162710_08FC94  23 minutes and 45.1 seconds   predict<DataframeInput:JsonOutput>     model<SklearnModelArtifact>, encoder<SklearnModelArtifact>\n",
            "FraudClassifier:20220721161344_33085B  37 minutes and 10.92 seconds  predict<DataframeInput:JsonOutput>     model<SklearnModelArtifact>, encoder<SklearnModelArtifact>\n",
            "FraudClassifier:20220721155756_32B2EA  52 minutes and 59.11 seconds  predict<DataframeInput:JsonOutput>     model<SklearnModelArtifact>, encoder<SklearnModelArtifact>\n",
            "FraudClassifier:20220721153818_0263EA  1 hour and 12 minutes         predict<DataframeInput:JsonOutput>     model<SklearnModelArtifact>, encoder<SklearnModelArtifact>\n",
            "FraudClassifier:20220721151524_E3222A  1 hour and 35 minutes         predict<DataframeInput:JsonOutput>     model<SklearnModelArtifact>, encoder<SklearnModelArtifact>\n",
            "FraudClassifier:20220720171101_2EA745  23 hours and 39 minutes       predict<DataframeInput:DefaultOutput>  model<SklearnModelArtifact>\n",
            "FraudClassifier:20220720123303_04C50B  1 day and 4 hours             predict<DataframeInput:DefaultOutput>  model<SklearnModelArtifact>\n",
            "FraudClassifier:20220720093652_CDEBB3  1 day and 7 hours             predict<DataframeInput:DefaultOutput>  model<SklearnModelArtifact>\u001b[0m\n"
          ]
        }
      ],
      "source": [
        "!bentoml list"
      ]
    },
    {
      "cell_type": "markdown",
      "metadata": {},
      "source": [
        "Now, using the `bentoml containerize`, we will containerize our BentoML service, tagging the image with registry link and the name of the service. Use the name you copied previously as the first argument."
      ]
    },
    {
      "cell_type": "code",
      "execution_count": 15,
      "metadata": {
        "id": "a7wbb8JG-inD"
      },
      "outputs": [
        {
          "name": "stdout",
          "output_type": "stream",
          "text": [
            "\u001b[39mFound Bento: /Users/elijahrou/bentoml/repository/FraudClassifier/20220721164716_0DF2EA\u001b[0m\n",
            "[2022-07-21 16:51:00,476] WARNING - Saved BentoService Python version mismatch: loading BentoService bundle created with Python version 3.8.13, but current environment version is 3.9.12.\n",
            "Containerizing FraudClassifier:20220721164716_0DF2EA with local YataiService and docker daemon from local environment\\\u001b[32m\n",
            "Build container image: registry.digitalocean.com/ml-models/fraud-classifier:latest\u001b[0m\n",
            "\b \r"
          ]
        }
      ],
      "source": [
        "!bentoml containerize FraudClassifier:20220721164716_0DF2EA -t registry.digitalocean.com/ml-models/fraud-classifier:latest"
      ]
    },
    {
      "cell_type": "markdown",
      "metadata": {},
      "source": [
        "Before we push our image to the registry, let's test that the service is working. Instantiate the service by running the following command in your terminal:\n",
        "```\n",
        "docker run -p 3000:5000 registry.digitalocean.com/ml-models/fraud-classifier:latest --workers=2\n",
        "```"
      ]
    },
    {
      "cell_type": "markdown",
      "metadata": {},
      "source": [
        "Navigate to `localhost:3000` in your browser and test the API with the following POST request:"
      ]
    },
    {
      "cell_type": "markdown",
      "metadata": {},
      "source": [
        "```json\n",
        "[{\"TransactionID\":3366167,\"isFraud\":0,\"TransactionDT\":9489613,\"TransactionAmt\":495.0,\"ProductCD\":\"W\",\"card1\":11839,\"card2\":490.0,\"card3\":150.0,\"card4\":\"visa\",\"card5\":226.0,\"card6\":\"debit\",\"addr1\":123.0,\"addr2\":87.0,\"dist1\":1.0,\"dist2\":null,\"P_emaildomain\":\"live.com\",\"R_emaildomain\":null,\"C1\":1.0,\"C2\":2.0,\"C3\":0.0,\"C4\":0.0,\"C5\":0.0,\"C6\":1.0,\"C7\":0.0,\"C8\":0.0,\"C9\":1.0,\"C10\":0.0,\"C11\":1.0,\"C12\":0.0,\"C13\":1.0,\"C14\":1.0,\"D1\":11.0,\"D2\":11.0,\"D3\":11.0,\"D4\":11.0,\"D5\":11.0,\"D6\":null,\"D7\":null,\"D8\":null,\"D9\":null,\"D10\":11.0,\"D11\":29.0,\"D12\":null,\"D13\":null,\"D14\":null,\"D15\":11.0,\"M1\":\"T\",\"M2\":\"T\",\"M3\":\"T\",\"M4\":\"M0\",\"M5\":\"F\",\"M6\":null,\"M7\":\"T\",\"M8\":\"T\",\"M9\":\"T\"}]\n",
        "```"
      ]
    },
    {
      "cell_type": "markdown",
      "metadata": {},
      "source": [
        "![Test the API locally](media/test_api.png)"
      ]
    },
    {
      "cell_type": "markdown",
      "metadata": {},
      "source": [
        "Ensure the response output is as expected (either 1 or 0). If there are any errors, you likely made a mistake in the **FraudClassifier** class.\n",
        "\n",
        "Once that's good, we just have standard docker stuff now. Let's push our image to the registry."
      ]
    },
    {
      "cell_type": "code",
      "execution_count": 16,
      "metadata": {},
      "outputs": [
        {
          "name": "stdout",
          "output_type": "stream",
          "text": [
            "The push refers to repository [registry.digitalocean.com/ml-models/fraud-classifier]\n",
            "\n",
            "\u001b[1Ba7f7463f: Preparing \n",
            "\u001b[1B36d63b4d: Preparing \n",
            "\u001b[1Bdbae906f: Preparing \n",
            "\u001b[1B6e2812f1: Preparing \n",
            "\u001b[1B02c667f8: Preparing \n",
            "\u001b[1Bf2ada3b7: Preparing \n",
            "\u001b[1Bba7358a0: Preparing \n",
            "\u001b[1B6610b4ce: Preparing \n",
            "\u001b[1Bf9b1552a: Preparing \n",
            "\u001b[1B148d3e7c: Preparing \n",
            "\u001b[1Bef851fa5: Preparing \n",
            "\u001b[1B01b290f0: Preparing \n",
            "\u001b[1Bcf49c90c: Preparing \n",
            "\u001b[1Bcc4915ef: Preparing \n",
            "\u001b[1B5f184b49: Preparing \n",
            "\u001b[1B4afccd60: Preparing \n",
            "\u001b[1B09dcc974: Preparing \n",
            "\u001b[1B08ab7cf3: Preparing \n",
            "\u001b[1B5b992fc1: Preparing \n",
            "\u001b[1B8986f350: Preparing \n",
            "\u001b[1Bab4c463e: Preparing \n",
            "\u001b[18B2c667f8: Pushed   877.7MB/871.9MB\u001b[22A\u001b[2K\u001b[19A\u001b[2K\u001b[18A\u001b[2K\u001b[18A\u001b[2K\u001b[18A\u001b[2K\u001b[18A\u001b[2K\u001b[18A\u001b[2K\u001b[18A\u001b[2K\u001b[18A\u001b[2K\u001b[18A\u001b[2K\u001b[18A\u001b[2K\u001b[18A\u001b[2K\u001b[18A\u001b[2K\u001b[18A\u001b[2K\u001b[18A\u001b[2K\u001b[18A\u001b[2K\u001b[18A\u001b[2K\u001b[18A\u001b[2K\u001b[18A\u001b[2K\u001b[18A\u001b[2K\u001b[18A\u001b[2K\u001b[18A\u001b[2K\u001b[18A\u001b[2K\u001b[18A\u001b[2K\u001b[18A\u001b[2K\u001b[18A\u001b[2K\u001b[18A\u001b[2K\u001b[18A\u001b[2K\u001b[18A\u001b[2K\u001b[18A\u001b[2K\u001b[18A\u001b[2K\u001b[18A\u001b[2K\u001b[18A\u001b[2K\u001b[18A\u001b[2K\u001b[18A\u001b[2K\u001b[18A\u001b[2K\u001b[18A\u001b[2K\u001b[18A\u001b[2K\u001b[18A\u001b[2K\u001b[18A\u001b[2K\u001b[18A\u001b[2K\u001b[18A\u001b[2K\u001b[18A\u001b[2K\u001b[18A\u001b[2K\u001b[18A\u001b[2K\u001b[18A\u001b[2K\u001b[18A\u001b[2K\u001b[18A\u001b[2K\u001b[18A\u001b[2K\u001b[18A\u001b[2K\u001b[18A\u001b[2K\u001b[18A\u001b[2K\u001b[18A\u001b[2K\u001b[18A\u001b[2K\u001b[18A\u001b[2K\u001b[18A\u001b[2K\u001b[18A\u001b[2K\u001b[18A\u001b[2K\u001b[18A\u001b[2K\u001b[18A\u001b[2K\u001b[18A\u001b[2K\u001b[18A\u001b[2K\u001b[18A\u001b[2K\u001b[18A\u001b[2K\u001b[18A\u001b[2K\u001b[18A\u001b[2K\u001b[18A\u001b[2K\u001b[18A\u001b[2K\u001b[20A\u001b[2K\u001b[18A\u001b[2K\u001b[18A\u001b[2K\u001b[18A\u001b[2K\u001b[18A\u001b[2K\u001b[18A\u001b[2K\u001b[18A\u001b[2K\u001b[18A\u001b[2K\u001b[18A\u001b[2K\u001b[18A\u001b[2K\u001b[18A\u001b[2K\u001b[18A\u001b[2K\u001b[18A\u001b[2K\u001b[18A\u001b[2K\u001b[18A\u001b[2K\u001b[18A\u001b[2K\u001b[18A\u001b[2K\u001b[18A\u001b[2K\u001b[18A\u001b[2K\u001b[18A\u001b[2K\u001b[18A\u001b[2K\u001b[18A\u001b[2K\u001b[18A\u001b[2K\u001b[18A\u001b[2K\u001b[18A\u001b[2K\u001b[18A\u001b[2K\u001b[18A\u001b[2K\u001b[18A\u001b[2K\u001b[18A\u001b[2K\u001b[18A\u001b[2K\u001b[18A\u001b[2K\u001b[18A\u001b[2K\u001b[18A\u001b[2K\u001b[15A\u001b[2K\u001b[18A\u001b[2K\u001b[18A\u001b[2K\u001b[18A\u001b[2K\u001b[18A\u001b[2K\u001b[18A\u001b[2K\u001b[18A\u001b[2K\u001b[18A\u001b[2K\u001b[18A\u001b[2K\u001b[18A\u001b[2K\u001b[13A\u001b[2K\u001b[18A\u001b[2K\u001b[18A\u001b[2K\u001b[18A\u001b[2K\u001b[18A\u001b[2K\u001b[18A\u001b[2K\u001b[18A\u001b[2K\u001b[18A\u001b[2K\u001b[18A\u001b[2K\u001b[18A\u001b[2K\u001b[18A\u001b[2K\u001b[18A\u001b[2K\u001b[18A\u001b[2K\u001b[18A\u001b[2K\u001b[18A\u001b[2K\u001b[18A\u001b[2K\u001b[18A\u001b[2K\u001b[18A\u001b[2K\u001b[18A\u001b[2K\u001b[18A\u001b[2K\u001b[18A\u001b[2K\u001b[18A\u001b[2K\u001b[18A\u001b[2K\u001b[18A\u001b[2K\u001b[18A\u001b[2K\u001b[18A\u001b[2K\u001b[18A\u001b[2K\u001b[18A\u001b[2K\u001b[18A\u001b[2K\u001b[9A\u001b[2K\u001b[18A\u001b[2K\u001b[18A\u001b[2K\u001b[18A\u001b[2K\u001b[18A\u001b[2K\u001b[18A\u001b[2K\u001b[18A\u001b[2K\u001b[18A\u001b[2K\u001b[18A\u001b[2K\u001b[18A\u001b[2K\u001b[18A\u001b[2K\u001b[18A\u001b[2K\u001b[18A\u001b[2K\u001b[18A\u001b[2K\u001b[18A\u001b[2K\u001b[8A\u001b[2K\u001b[18A\u001b[2K\u001b[18A\u001b[2K\u001b[18A\u001b[2K\u001b[18A\u001b[2K\u001b[18A\u001b[2K\u001b[17A\u001b[2K\u001b[7A\u001b[2K\u001b[18A\u001b[2K\u001b[18A\u001b[2K\u001b[18A\u001b[2K\u001b[18A\u001b[2K\u001b[6A\u001b[2K\u001b[18A\u001b[2K\u001b[18A\u001b[2K\u001b[18A\u001b[2K\u001b[18A\u001b[2K\u001b[18A\u001b[2K\u001b[18A\u001b[2K\u001b[18A\u001b[2K\u001b[18A\u001b[2K\u001b[18A\u001b[2K\u001b[18A\u001b[2K\u001b[18A\u001b[2K\u001b[18A\u001b[2K\u001b[18A\u001b[2K\u001b[18A\u001b[2K\u001b[3A\u001b[2K\u001b[18A\u001b[2K\u001b[18A\u001b[2K\u001b[18A\u001b[2K\u001b[18A\u001b[2K\u001b[2A\u001b[2K\u001b[18A\u001b[2K\u001b[18A\u001b[2K\u001b[18A\u001b[2K\u001b[18A\u001b[2K\u001b[18A\u001b[2K\u001b[18A\u001b[2K\u001b[18A\u001b[2K\u001b[18A\u001b[2K\u001b[1A\u001b[2K\u001b[18A\u001b[2K\u001b[18A\u001b[2K\u001b[18A\u001b[2K\u001b[18A\u001b[2K\u001b[18A\u001b[2K\u001b[18A\u001b[2K\u001b[18A\u001b[2K\u001b[18A\u001b[2K\u001b[18A\u001b[2K\u001b[18A\u001b[2K\u001b[18A\u001b[2K\u001b[18A\u001b[2K\u001b[18A\u001b[2K\u001b[18A\u001b[2K\u001b[18A\u001b[2K\u001b[18A\u001b[2K\u001b[18A\u001b[2K\u001b[18A\u001b[2K\u001b[18A\u001b[2K\u001b[18A\u001b[2K\u001b[18A\u001b[2K\u001b[18A\u001b[2K\u001b[18A\u001b[2K\u001b[18A\u001b[2K\u001b[18A\u001b[2K\u001b[18A\u001b[2K\u001b[18A\u001b[2K\u001b[18A\u001b[2K\u001b[18A\u001b[2K\u001b[18A\u001b[2K\u001b[18A\u001b[2K\u001b[18A\u001b[2K\u001b[18A\u001b[2K\u001b[18A\u001b[2K\u001b[18A\u001b[2K\u001b[18A\u001b[2K\u001b[18A\u001b[2K\u001b[18A\u001b[2K\u001b[18A\u001b[2K\u001b[18A\u001b[2K\u001b[18A\u001b[2K\u001b[18A\u001b[2K\u001b[18A\u001b[2K\u001b[18A\u001b[2K\u001b[18A\u001b[2K\u001b[18A\u001b[2K\u001b[18A\u001b[2K\u001b[18A\u001b[2K\u001b[18A\u001b[2K\u001b[18A\u001b[2K\u001b[18A\u001b[2K\u001b[18A\u001b[2K\u001b[18A\u001b[2K\u001b[18A\u001b[2K\u001b[18A\u001b[2K\u001b[18A\u001b[2K\u001b[18A\u001b[2K\u001b[18A\u001b[2K\u001b[18A\u001b[2K\u001b[18A\u001b[2K\u001b[18A\u001b[2K\u001b[18A\u001b[2K\u001b[18A\u001b[2K\u001b[18A\u001b[2K\u001b[18A\u001b[2K\u001b[18A\u001b[2K\u001b[18A\u001b[2K\u001b[18A\u001b[2K\u001b[18A\u001b[2K\u001b[18A\u001b[2K\u001b[18A\u001b[2K\u001b[18A\u001b[2K\u001b[18A\u001b[2K\u001b[18A\u001b[2K\u001b[18A\u001b[2K\u001b[18A\u001b[2K\u001b[18A\u001b[2K\u001b[18A\u001b[2K\u001b[18A\u001b[2K\u001b[18A\u001b[2K\u001b[18A\u001b[2K\u001b[18A\u001b[2K\u001b[18A\u001b[2K\u001b[18A\u001b[2K\u001b[18A\u001b[2K\u001b[18A\u001b[2K\u001b[18A\u001b[2K\u001b[18A\u001b[2K\u001b[18A\u001b[2K\u001b[18A\u001b[2K\u001b[18A\u001b[2K\u001b[18A\u001b[2K\u001b[18A\u001b[2K\u001b[18A\u001b[2K\u001b[18A\u001b[2K\u001b[18A\u001b[2K\u001b[18A\u001b[2K\u001b[18A\u001b[2K\u001b[18A\u001b[2K\u001b[18A\u001b[2K\u001b[18A\u001b[2K\u001b[18A\u001b[2K\u001b[18A\u001b[2K\u001b[18A\u001b[2Klatest: digest: sha256:7a3c0ea79b4ca1db06172c57474c55857a3e152ae5c5fc010540bf1b1b02e2b4 size: 4920\n"
          ]
        }
      ],
      "source": [
        "!docker push registry.digitalocean.com/ml-models/fraud-classifier:latest"
      ]
    },
    {
      "cell_type": "markdown",
      "metadata": {},
      "source": [
        "## Deploy your service"
      ]
    },
    {
      "cell_type": "markdown",
      "metadata": {},
      "source": [
        "Well done! Now, there's only one thing left to do. We need to deploy our service images Kubernetes!\n",
        "\n",
        "Firstlt, let's authorize access to the DigitalOcean Container Registry and pipe the access secret to kubectl:"
      ]
    },
    {
      "cell_type": "code",
      "execution_count": 24,
      "metadata": {},
      "outputs": [
        {
          "name": "stdout",
          "output_type": "stream",
          "text": [
            "secret/registry-ml-models configured\n"
          ]
        }
      ],
      "source": [
        "!doctl registry kubernetes-manifest | kubectl apply -f -"
      ]
    },
    {
      "cell_type": "markdown",
      "metadata": {},
      "source": [
        "Now, let's use this uploaded secret to authenticate our pulls from the registry:"
      ]
    },
    {
      "cell_type": "code",
      "execution_count": 23,
      "metadata": {},
      "outputs": [
        {
          "name": "stdout",
          "output_type": "stream",
          "text": [
            "serviceaccount/default patched\n"
          ]
        }
      ],
      "source": [
        "!kubectl patch serviceaccount default -p '{\"imagePullSecrets\": [{\"name\": \"registry-ml-models\"}]}'"
      ]
    },
    {
      "cell_type": "markdown",
      "metadata": {},
      "source": [
        "Finally, let's create the deployment:"
      ]
    },
    {
      "cell_type": "code",
      "execution_count": 25,
      "metadata": {},
      "outputs": [
        {
          "name": "stdout",
          "output_type": "stream",
          "text": [
            "deployment.apps/fraud-classifier created\n"
          ]
        }
      ],
      "source": [
        "!kubectl create deployment fraud-classifier --image=registry.digitalocean.com/ml-models/fraud-classifier:latest"
      ]
    },
    {
      "cell_type": "markdown",
      "metadata": {},
      "source": [
        "You can confirm it is now running and viewing all Replica Sets."
      ]
    },
    {
      "cell_type": "code",
      "execution_count": 26,
      "metadata": {},
      "outputs": [
        {
          "name": "stdout",
          "output_type": "stream",
          "text": [
            "NAME                          DESIRED   CURRENT   READY   AGE\n",
            "fraud-classifier-54b7874949   1         1         1       8s\n",
            "NAME                                READY   STATUS    RESTARTS   AGE\n",
            "fraud-classifier-54b7874949-6s69s   1/1     Running   0          10s\n"
          ]
        }
      ],
      "source": [
        "!kubectl get rs\n",
        "!kubectl get pods"
      ]
    },
    {
      "cell_type": "markdown",
      "metadata": {},
      "source": [
        "We need a load balancer to expose our Bento service and make our Fraud Classifier scalable to multiple pods. Let's create one quickly, forwarding port 80 to the target port 5000."
      ]
    },
    {
      "cell_type": "code",
      "execution_count": 27,
      "metadata": {},
      "outputs": [
        {
          "name": "stdout",
          "output_type": "stream",
          "text": [
            "service/fraud-classifier exposed\n"
          ]
        }
      ],
      "source": [
        "!kubectl expose deployment fraud-classifier --type=LoadBalancer --port=80 --target-port=5000"
      ]
    },
    {
      "cell_type": "markdown",
      "metadata": {},
      "source": [
        "This will take a few minutes to create. Using the following `doctl` command, we can monitor the progress of the load balancer deployment:"
      ]
    },
    {
      "cell_type": "code",
      "execution_count": 30,
      "metadata": {},
      "outputs": [
        {
          "name": "stdout",
          "output_type": "stream",
          "text": [
            "Name                                Created At              IP                Status\n",
            "affbe322705e74689ac5f06a1d557070    2022-07-20T08:35:28Z    146.190.13.199    active\n",
            "a1fa8ce40a5234abebea701bcd4f24fb    2022-07-21T15:09:48Z    146.190.13.233    active\n"
          ]
        }
      ],
      "source": [
        "!doctl compute load-balancer list --format Name,Created,IP,Status"
      ]
    },
    {
      "cell_type": "markdown",
      "metadata": {},
      "source": [
        "Now that the load balancer is live, let's make sure our service is live! Grab the IP from of the load balancer and navigate to it in your browse"
      ]
    },
    {
      "cell_type": "markdown",
      "metadata": {},
      "source": [
        "![Live App](media/live_app.png)\n",
        "\n",
        "Congratulations, you've deployed your fraud classifier as an API!"
      ]
    }
  ],
  "metadata": {
    "colab": {
      "name": "explore.ipynb",
      "provenance": []
    },
    "kernelspec": {
      "display_name": "Python 3.8.13 ('py38')",
      "language": "python",
      "name": "python3"
    },
    "language_info": {
      "codemirror_mode": {
        "name": "ipython",
        "version": 3
      },
      "file_extension": ".py",
      "mimetype": "text/x-python",
      "name": "python",
      "nbconvert_exporter": "python",
      "pygments_lexer": "ipython3",
      "version": "3.8.13"
    },
    "orig_nbformat": 4,
    "vscode": {
      "interpreter": {
        "hash": "33b92e5526e8ff45a1bfbfc10f0ef31f3c9d1e86f252b1ec93bfd52c4970ca4b"
      }
    }
  },
  "nbformat": 4,
  "nbformat_minor": 0
}
